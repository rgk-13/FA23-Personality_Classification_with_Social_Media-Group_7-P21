{
  "nbformat": 4,
  "nbformat_minor": 0,
  "metadata": {
    "colab": {
      "provenance": []
    },
    "kernelspec": {
      "name": "ir",
      "display_name": "R"
    },
    "language_info": {
      "name": "R"
    }
  },
  "cells": [
    {
      "cell_type": "code",
      "execution_count": null,
      "metadata": {
        "id": "fn3cPcj2ZL3R",
        "colab": {
          "base_uri": "https://localhost:8080/"
        },
        "outputId": "768111e4-e3d7-426d-808c-f3e3485f9c40"
      },
      "outputs": [
        {
          "output_type": "stream",
          "name": "stderr",
          "text": [
            "Installing package into ‘/usr/local/lib/R/site-library’\n",
            "(as ‘lib’ is unspecified)\n",
            "\n",
            "also installing the dependencies ‘NLP’, ‘Rcpp’, ‘BH’, ‘modeltools’, ‘slam’, ‘tm’\n",
            "\n",
            "\n",
            "Installing package into ‘/usr/local/lib/R/site-library’\n",
            "(as ‘lib’ is unspecified)\n",
            "\n",
            "Installing package into ‘/usr/local/lib/R/site-library’\n",
            "(as ‘lib’ is unspecified)\n",
            "\n",
            "Installing package into ‘/usr/local/lib/R/site-library’\n",
            "(as ‘lib’ is unspecified)\n",
            "\n",
            "Installing package into ‘/usr/local/lib/R/site-library’\n",
            "(as ‘lib’ is unspecified)\n",
            "\n"
          ]
        }
      ],
      "source": [
        "system2('sudo', 'apt-get install libgsl0-dev')\n",
        "install.packages(\"topicmodels\")\n",
        "install.packages(\"googledrive\")\n",
        "install.packages(\"data.table\")\n",
        "install.packages(\"Matrix\")\n",
        "install.packages(\"irlba\")\n"
      ]
    },
    {
      "cell_type": "code",
      "source": [
        "install.packages(\"ggplot2\")\n",
        "install.packages(\"reshape2\")\n",
        "install.packages(\"ROCR\")"
      ],
      "metadata": {
        "colab": {
          "base_uri": "https://localhost:8080/"
        },
        "id": "Us2I9abSmXZk",
        "outputId": "75010585-2d16-48bd-8e6a-7b3d0d64bd01"
      },
      "execution_count": null,
      "outputs": [
        {
          "output_type": "stream",
          "name": "stderr",
          "text": [
            "Installing package into ‘/usr/local/lib/R/site-library’\n",
            "(as ‘lib’ is unspecified)\n",
            "\n",
            "Installing package into ‘/usr/local/lib/R/site-library’\n",
            "(as ‘lib’ is unspecified)\n",
            "\n",
            "also installing the dependency ‘plyr’\n",
            "\n",
            "\n",
            "Installing package into ‘/usr/local/lib/R/site-library’\n",
            "(as ‘lib’ is unspecified)\n",
            "\n",
            "also installing the dependencies ‘bitops’, ‘gtools’, ‘caTools’, ‘gplots’\n",
            "\n",
            "\n"
          ]
        }
      ]
    },
    {
      "cell_type": "code",
      "source": [
        "# Install and load the required packages\n",
        "\n",
        "# Load the libraries\n",
        "library(googledrive)\n",
        "library(data.table)\n",
        "\n",
        "# Authenticate with Google Drive\n",
        "drive_auth()\n",
        "\n",
        "# Define the Google Drive file ID and file name\n",
        "file_id <- \"\"\n",
        "file_name <- \"users-likes.csv\"  # Replace with the desired file name\n",
        "\n",
        "# Download the file using googledrive\n",
        "drive_download(as_id(file_id), path = file_name)\n",
        "\n",
        "# Read CSV file into a data frame\n",
        "your_data <- fread(file_name)\n",
        "\n",
        "# Display the first few rows\n",
        "head(your_data)\n"
      ],
      "metadata": {
        "id": "_CaIzpnzZSX5",
        "colab": {
          "base_uri": "https://localhost:8080/",
          "height": 609
        },
        "outputId": "a813f531-28f9-4b93-d21d-e11ea2c8d956"
      },
      "execution_count": null,
      "outputs": [
        {
          "output_type": "stream",
          "name": "stderr",
          "text": [
            "\u001b[1m\u001b[22mIs it OK to cache OAuth access credentials in the folder \u001b[34m~/.cache/gargle\u001b[39m\n",
            "between R sessions?\n",
            "\u001b[1m1\u001b[22m: Yes\n",
            "\u001b[1m2\u001b[22m: No\n"
          ]
        },
        {
          "name": "stdout",
          "output_type": "stream",
          "text": [
            "Selection: 1\n"
          ]
        },
        {
          "output_type": "stream",
          "name": "stderr",
          "text": [
            "Please point your browser to the following url: \n",
            "\n",
            "https://accounts.google.com/o/oauth2/v2/auth?client_id=603366585132-frjlouoa3s2ono25d2l9ukvhlsrlnr7k.apps.googleusercontent.com&scope=https%3A%2F%2Fwww.googleapis.com%2Fauth%2Fdrive%20https%3A%2F%2Fwww.googleapis.com%2Fauth%2Fuserinfo.email&redirect_uri=https%3A%2F%2Fwww.tidyverse.org%2Fgoogle-callback%2F&response_type=code&state=acf333042cccb74622c5668db1e7027f&access_type=offline&prompt=consent\n",
            "\n"
          ]
        },
        {
          "name": "stdout",
          "output_type": "stream",
          "text": [
            "Enter authorization code: eyJjb2RlIjoiNC8wQWZKb2hYbjlMQ05KR2xCWEdnTnB6Q0RUa2hwRDdkWDV4QzRtdnluUjlFNUtHbFEtc2o1VGprQmpKTUpDem9RYnZvODNtdyIsInN0YXRlIjoiYWNmMzMzMDQyY2NjYjc0NjIyYzU2NjhkYjFlNzAyN2YifQ==\n"
          ]
        },
        {
          "output_type": "stream",
          "name": "stderr",
          "text": [
            "File downloaded:\n",
            "\n",
            "• \u001b[36musers-likes.csv\u001b[39m \u001b[90m<id: 1_rB01MlrOzCmreuw0KpUBJP9BEAfrUeT>\u001b[39m\n",
            "\n",
            "Saved locally as:\n",
            "\n",
            "• \u001b[34musers-likes.csv\u001b[39m\n",
            "\n"
          ]
        },
        {
          "output_type": "display_data",
          "data": {
            "text/html": [
              "<table class=\"dataframe\">\n",
              "<caption>A data.table: 6 × 2</caption>\n",
              "<thead>\n",
              "\t<tr><th scope=col>userid</th><th scope=col>likeid</th></tr>\n",
              "\t<tr><th scope=col>&lt;chr&gt;</th><th scope=col>&lt;chr&gt;</th></tr>\n",
              "</thead>\n",
              "<tbody>\n",
              "\t<tr><td>71bc7c0901488aec6d30f0add257e7c5</td><td>3c1636c878e6eb2acfd00c6b61086e38</td></tr>\n",
              "\t<tr><td>978ab8e90c4d6ad1a48ef5c973b62f4d</td><td>feca46ddb8ef04f86172ace0cb7e004c</td></tr>\n",
              "\t<tr><td>85123b0e358907725cf19a2cb0ec3983</td><td>b65f46d64c688fe98bdbcf93a76a71fc</td></tr>\n",
              "\t<tr><td>ce110562b3e2f7e5cad3775b32d9caa5</td><td>b65f46d64c688fe98bdbcf93a76a71fc</td></tr>\n",
              "\t<tr><td>8188d20745471273fa69ba44a5b28473</td><td>b65f46d64c688fe98bdbcf93a76a71fc</td></tr>\n",
              "\t<tr><td>e9c621f322640e5f3b3842d19b38aaa8</td><td>b65f46d64c688fe98bdbcf93a76a71fc</td></tr>\n",
              "</tbody>\n",
              "</table>\n"
            ],
            "text/markdown": "\nA data.table: 6 × 2\n\n| userid &lt;chr&gt; | likeid &lt;chr&gt; |\n|---|---|\n| 71bc7c0901488aec6d30f0add257e7c5 | 3c1636c878e6eb2acfd00c6b61086e38 |\n| 978ab8e90c4d6ad1a48ef5c973b62f4d | feca46ddb8ef04f86172ace0cb7e004c |\n| 85123b0e358907725cf19a2cb0ec3983 | b65f46d64c688fe98bdbcf93a76a71fc |\n| ce110562b3e2f7e5cad3775b32d9caa5 | b65f46d64c688fe98bdbcf93a76a71fc |\n| 8188d20745471273fa69ba44a5b28473 | b65f46d64c688fe98bdbcf93a76a71fc |\n| e9c621f322640e5f3b3842d19b38aaa8 | b65f46d64c688fe98bdbcf93a76a71fc |\n\n",
            "text/latex": "A data.table: 6 × 2\n\\begin{tabular}{ll}\n userid & likeid\\\\\n <chr> & <chr>\\\\\n\\hline\n\t 71bc7c0901488aec6d30f0add257e7c5 & 3c1636c878e6eb2acfd00c6b61086e38\\\\\n\t 978ab8e90c4d6ad1a48ef5c973b62f4d & feca46ddb8ef04f86172ace0cb7e004c\\\\\n\t 85123b0e358907725cf19a2cb0ec3983 & b65f46d64c688fe98bdbcf93a76a71fc\\\\\n\t ce110562b3e2f7e5cad3775b32d9caa5 & b65f46d64c688fe98bdbcf93a76a71fc\\\\\n\t 8188d20745471273fa69ba44a5b28473 & b65f46d64c688fe98bdbcf93a76a71fc\\\\\n\t e9c621f322640e5f3b3842d19b38aaa8 & b65f46d64c688fe98bdbcf93a76a71fc\\\\\n\\end{tabular}\n",
            "text/plain": [
              "  userid                           likeid                          \n",
              "1 71bc7c0901488aec6d30f0add257e7c5 3c1636c878e6eb2acfd00c6b61086e38\n",
              "2 978ab8e90c4d6ad1a48ef5c973b62f4d feca46ddb8ef04f86172ace0cb7e004c\n",
              "3 85123b0e358907725cf19a2cb0ec3983 b65f46d64c688fe98bdbcf93a76a71fc\n",
              "4 ce110562b3e2f7e5cad3775b32d9caa5 b65f46d64c688fe98bdbcf93a76a71fc\n",
              "5 8188d20745471273fa69ba44a5b28473 b65f46d64c688fe98bdbcf93a76a71fc\n",
              "6 e9c621f322640e5f3b3842d19b38aaa8 b65f46d64c688fe98bdbcf93a76a71fc"
            ]
          },
          "metadata": {}
        }
      ]
    },
    {
      "cell_type": "code",
      "source": [
        "file_id <- \"\"\n",
        "file_name <- \"likes.csv\"  # Replace with the desired file name\n",
        "\n",
        "# Download the file using googledrive\n",
        "drive_download(as_id(file_id), path = file_name)\n",
        "\n",
        "# Read CSV file into a data frame\n",
        "your_data <- fread(file_name)\n",
        "\n",
        "# Display the first few rows\n",
        "head(your_data)\n",
        "\n",
        "file_id <- \"\"\n",
        "file_name <- \"users.csv\"  # Replace with the desired file name\n",
        "\n",
        "# Download the file using googledrive\n",
        "drive_download(as_id(file_id), path = file_name)\n",
        "\n",
        "# Read CSV file into a data frame\n",
        "your_data <- fread(file_name)\n",
        "\n",
        "\n",
        "ul <- fread(\"users-likes.csv\")\n",
        "users <- read.csv(\"users.csv\")\n",
        "likes <- read.csv(\"likes.csv\")\n",
        "head(ul)"
      ],
      "metadata": {
        "id": "F4wbHcg5ZSbd",
        "colab": {
          "base_uri": "https://localhost:8080/",
          "height": 821
        },
        "outputId": "400d84f8-c005-468a-d2ee-3b7e45c80da4"
      },
      "execution_count": null,
      "outputs": [
        {
          "output_type": "stream",
          "name": "stderr",
          "text": [
            "File downloaded:\n",
            "\n",
            "• \u001b[36mlikes.csv\u001b[39m \u001b[90m<id: 1p1jJZ00wm7BpyhpdrTuX6RoqtCsQX0Uj>\u001b[39m\n",
            "\n",
            "Saved locally as:\n",
            "\n",
            "• \u001b[34mlikes.csv\u001b[39m\n",
            "\n"
          ]
        },
        {
          "output_type": "display_data",
          "data": {
            "text/html": [
              "<table class=\"dataframe\">\n",
              "<caption>A data.table: 6 × 2</caption>\n",
              "<thead>\n",
              "\t<tr><th scope=col>likeid</th><th scope=col>name</th></tr>\n",
              "\t<tr><th scope=col>&lt;chr&gt;</th><th scope=col>&lt;chr&gt;</th></tr>\n",
              "</thead>\n",
              "<tbody>\n",
              "\t<tr><td>3c1636c878e6eb2acfd00c6b61086e38</td><td>REIGN by Paul Gibson                             </td></tr>\n",
              "\t<tr><td>feca46ddb8ef04f86172ace0cb7e004c</td><td><span style=white-space:pre-wrap>Cupcake Wishes &amp; Birthday Dreams                 </span></td></tr>\n",
              "\t<tr><td>b65f46d64c688fe98bdbcf93a76a71fc</td><td>Yo también me rei de la caída de otro jejeje     </td></tr>\n",
              "\t<tr><td>9c5c8bb82d2cd46fbd7582f944fe370e</td><td>Abraham Joshua Heschel Day School- Alumni Network</td></tr>\n",
              "\t<tr><td>2d82fa84ad79b085dc516dde154327a2</td><td>Kennesaw Farmer's Market                         </td></tr>\n",
              "\t<tr><td>0a7a01c82143347fc4703faa4e7f415c</td><td>Karlsruher SC                                    </td></tr>\n",
              "</tbody>\n",
              "</table>\n"
            ],
            "text/markdown": "\nA data.table: 6 × 2\n\n| likeid &lt;chr&gt; | name &lt;chr&gt; |\n|---|---|\n| 3c1636c878e6eb2acfd00c6b61086e38 | REIGN by Paul Gibson                              |\n| feca46ddb8ef04f86172ace0cb7e004c | Cupcake Wishes &amp; Birthday Dreams                  |\n| b65f46d64c688fe98bdbcf93a76a71fc | Yo también me rei de la caída de otro jejeje      |\n| 9c5c8bb82d2cd46fbd7582f944fe370e | Abraham Joshua Heschel Day School- Alumni Network |\n| 2d82fa84ad79b085dc516dde154327a2 | Kennesaw Farmer's Market                          |\n| 0a7a01c82143347fc4703faa4e7f415c | Karlsruher SC                                     |\n\n",
            "text/latex": "A data.table: 6 × 2\n\\begin{tabular}{ll}\n likeid & name\\\\\n <chr> & <chr>\\\\\n\\hline\n\t 3c1636c878e6eb2acfd00c6b61086e38 & REIGN by Paul Gibson                             \\\\\n\t feca46ddb8ef04f86172ace0cb7e004c & Cupcake Wishes \\& Birthday Dreams                 \\\\\n\t b65f46d64c688fe98bdbcf93a76a71fc & Yo también me rei de la caída de otro jejeje     \\\\\n\t 9c5c8bb82d2cd46fbd7582f944fe370e & Abraham Joshua Heschel Day School- Alumni Network\\\\\n\t 2d82fa84ad79b085dc516dde154327a2 & Kennesaw Farmer's Market                         \\\\\n\t 0a7a01c82143347fc4703faa4e7f415c & Karlsruher SC                                    \\\\\n\\end{tabular}\n",
            "text/plain": [
              "  likeid                          \n",
              "1 3c1636c878e6eb2acfd00c6b61086e38\n",
              "2 feca46ddb8ef04f86172ace0cb7e004c\n",
              "3 b65f46d64c688fe98bdbcf93a76a71fc\n",
              "4 9c5c8bb82d2cd46fbd7582f944fe370e\n",
              "5 2d82fa84ad79b085dc516dde154327a2\n",
              "6 0a7a01c82143347fc4703faa4e7f415c\n",
              "  name                                             \n",
              "1 REIGN by Paul Gibson                             \n",
              "2 Cupcake Wishes & Birthday Dreams                 \n",
              "3 Yo también me rei de la caída de otro jejeje     \n",
              "4 Abraham Joshua Heschel Day School- Alumni Network\n",
              "5 Kennesaw Farmer's Market                         \n",
              "6 Karlsruher SC                                    "
            ]
          },
          "metadata": {}
        },
        {
          "output_type": "stream",
          "name": "stderr",
          "text": [
            "File downloaded:\n",
            "\n",
            "• \u001b[36musers.csv\u001b[39m \u001b[90m<id: 1NEvjmNOxipvcoOQ1bRIgKj57RACxFZ9H>\u001b[39m\n",
            "\n",
            "Saved locally as:\n",
            "\n",
            "• \u001b[34musers.csv\u001b[39m\n",
            "\n"
          ]
        },
        {
          "output_type": "display_data",
          "data": {
            "text/html": [
              "<table class=\"dataframe\">\n",
              "<caption>A data.table: 6 × 2</caption>\n",
              "<thead>\n",
              "\t<tr><th scope=col>userid</th><th scope=col>likeid</th></tr>\n",
              "\t<tr><th scope=col>&lt;chr&gt;</th><th scope=col>&lt;chr&gt;</th></tr>\n",
              "</thead>\n",
              "<tbody>\n",
              "\t<tr><td>71bc7c0901488aec6d30f0add257e7c5</td><td>3c1636c878e6eb2acfd00c6b61086e38</td></tr>\n",
              "\t<tr><td>978ab8e90c4d6ad1a48ef5c973b62f4d</td><td>feca46ddb8ef04f86172ace0cb7e004c</td></tr>\n",
              "\t<tr><td>85123b0e358907725cf19a2cb0ec3983</td><td>b65f46d64c688fe98bdbcf93a76a71fc</td></tr>\n",
              "\t<tr><td>ce110562b3e2f7e5cad3775b32d9caa5</td><td>b65f46d64c688fe98bdbcf93a76a71fc</td></tr>\n",
              "\t<tr><td>8188d20745471273fa69ba44a5b28473</td><td>b65f46d64c688fe98bdbcf93a76a71fc</td></tr>\n",
              "\t<tr><td>e9c621f322640e5f3b3842d19b38aaa8</td><td>b65f46d64c688fe98bdbcf93a76a71fc</td></tr>\n",
              "</tbody>\n",
              "</table>\n"
            ],
            "text/markdown": "\nA data.table: 6 × 2\n\n| userid &lt;chr&gt; | likeid &lt;chr&gt; |\n|---|---|\n| 71bc7c0901488aec6d30f0add257e7c5 | 3c1636c878e6eb2acfd00c6b61086e38 |\n| 978ab8e90c4d6ad1a48ef5c973b62f4d | feca46ddb8ef04f86172ace0cb7e004c |\n| 85123b0e358907725cf19a2cb0ec3983 | b65f46d64c688fe98bdbcf93a76a71fc |\n| ce110562b3e2f7e5cad3775b32d9caa5 | b65f46d64c688fe98bdbcf93a76a71fc |\n| 8188d20745471273fa69ba44a5b28473 | b65f46d64c688fe98bdbcf93a76a71fc |\n| e9c621f322640e5f3b3842d19b38aaa8 | b65f46d64c688fe98bdbcf93a76a71fc |\n\n",
            "text/latex": "A data.table: 6 × 2\n\\begin{tabular}{ll}\n userid & likeid\\\\\n <chr> & <chr>\\\\\n\\hline\n\t 71bc7c0901488aec6d30f0add257e7c5 & 3c1636c878e6eb2acfd00c6b61086e38\\\\\n\t 978ab8e90c4d6ad1a48ef5c973b62f4d & feca46ddb8ef04f86172ace0cb7e004c\\\\\n\t 85123b0e358907725cf19a2cb0ec3983 & b65f46d64c688fe98bdbcf93a76a71fc\\\\\n\t ce110562b3e2f7e5cad3775b32d9caa5 & b65f46d64c688fe98bdbcf93a76a71fc\\\\\n\t 8188d20745471273fa69ba44a5b28473 & b65f46d64c688fe98bdbcf93a76a71fc\\\\\n\t e9c621f322640e5f3b3842d19b38aaa8 & b65f46d64c688fe98bdbcf93a76a71fc\\\\\n\\end{tabular}\n",
            "text/plain": [
              "  userid                           likeid                          \n",
              "1 71bc7c0901488aec6d30f0add257e7c5 3c1636c878e6eb2acfd00c6b61086e38\n",
              "2 978ab8e90c4d6ad1a48ef5c973b62f4d feca46ddb8ef04f86172ace0cb7e004c\n",
              "3 85123b0e358907725cf19a2cb0ec3983 b65f46d64c688fe98bdbcf93a76a71fc\n",
              "4 ce110562b3e2f7e5cad3775b32d9caa5 b65f46d64c688fe98bdbcf93a76a71fc\n",
              "5 8188d20745471273fa69ba44a5b28473 b65f46d64c688fe98bdbcf93a76a71fc\n",
              "6 e9c621f322640e5f3b3842d19b38aaa8 b65f46d64c688fe98bdbcf93a76a71fc"
            ]
          },
          "metadata": {}
        }
      ]
    },
    {
      "cell_type": "code",
      "source": [
        "# Match entries in ul with users and likes dictionaries\n",
        "ul$user_row<-match(ul$userid,users$userid)\n",
        "ul$like_row<-match(ul$likeid,likes$likeid)\n",
        "\n",
        "# Install Matrix library - run only once\n",
        "\n",
        "# Load Matrix library\n",
        "require(Matrix)\n",
        "\n",
        "# Construct the sparse User-Like Matrix M\n",
        "M <- sparseMatrix(i = ul$user_row, j = ul$like_row, x = 1)\n",
        "\n",
        "# Save user IDs as row names in M\n",
        "rownames(M) <- users$userid\n",
        "\n",
        "# Save Like names as column names in M\n",
        "colnames(M) <- likes$name\n",
        "\n",
        "dim(M) #before preprocessing\n",
        "# Remove ul and likes objects (they won't be needed)\n",
        "rm(ul, likes)\n",
        "# Remove users/Likes occurring less than 50/150 times\n",
        "\n",
        "repeat {\n",
        "  i <- sum(dim(M))\n",
        "  M <- M[rowSums(M) >= 50, colSums(M) >= 150]\n",
        "  if (sum(dim(M)) == i) break\n",
        "  }\n",
        "\n",
        "# Check the new size of M\n",
        "dim(M)\n",
        "\n",
        "# Remove the users from users object that were removed from M\n",
        "users <- users[match(rownames(M), users$userid), ]\n",
        "\n",
        "#number of users after preprocessing\n",
        "dim(users)\n",
        "\n",
        "#dimensionality reduction using svd:\n",
        "# Preset the random number generator in R for the comparability of the results\n",
        "set.seed(seed = 68)\n",
        "\n",
        "# Install irlba package (run only once)\n",
        "\n",
        "# Load irlba and extract 5 SVD dimensions\n",
        "library(irlba)\n",
        "Msvd <- irlba(M, nv = 5)\n",
        "\n",
        "# User SVD scores are here:\n",
        "u <- Msvd$u\n",
        "\n",
        "# Like SVD scores are here:\n",
        "v <- Msvd$v\n",
        "\n",
        "# The scree plot of singular values:\n",
        "plot(Msvd$d)\n",
        "\n",
        "# First obtain rotated V matrix:\n",
        "# (unclass function has to be used to save it as an object of type matrix and not loadings)\n",
        "v_rot <- unclass(varimax(Msvd$v)$loadings)\n",
        "\n",
        "# The cross-product of M and v_rot gives u_rot:\n",
        "u_rot <- as.matrix(M %*% v_rot)"
      ],
      "metadata": {
        "id": "dA-0nNM-ZSej",
        "colab": {
          "base_uri": "https://localhost:8080/",
          "height": 522
        },
        "outputId": "3d35f7b5-be39-4a42-e118-4b2001f14855"
      },
      "execution_count": null,
      "outputs": [
        {
          "output_type": "stream",
          "name": "stderr",
          "text": [
            "Loading required package: Matrix\n",
            "\n"
          ]
        },
        {
          "output_type": "display_data",
          "data": {
            "text/html": [
              "<style>\n",
              ".list-inline {list-style: none; margin:0; padding: 0}\n",
              ".list-inline>li {display: inline-block}\n",
              ".list-inline>li:not(:last-child)::after {content: \"\\00b7\"; padding: 0 .5ex}\n",
              "</style>\n",
              "<ol class=list-inline><li>110728</li><li>1580284</li></ol>\n"
            ],
            "text/markdown": "1. 110728\n2. 1580284\n\n\n",
            "text/latex": "\\begin{enumerate*}\n\\item 110728\n\\item 1580284\n\\end{enumerate*}\n",
            "text/plain": [
              "[1]  110728 1580284"
            ]
          },
          "metadata": {}
        },
        {
          "output_type": "display_data",
          "data": {
            "text/html": [
              "<style>\n",
              ".list-inline {list-style: none; margin:0; padding: 0}\n",
              ".list-inline>li {display: inline-block}\n",
              ".list-inline>li:not(:last-child)::after {content: \"\\00b7\"; padding: 0 .5ex}\n",
              "</style>\n",
              "<ol class=list-inline><li>19742</li><li>8523</li></ol>\n"
            ],
            "text/markdown": "1. 19742\n2. 8523\n\n\n",
            "text/latex": "\\begin{enumerate*}\n\\item 19742\n\\item 8523\n\\end{enumerate*}\n",
            "text/plain": [
              "[1] 19742  8523"
            ]
          },
          "metadata": {}
        },
        {
          "output_type": "display_data",
          "data": {
            "text/html": [
              "<style>\n",
              ".list-inline {list-style: none; margin:0; padding: 0}\n",
              ".list-inline>li {display: inline-block}\n",
              ".list-inline>li:not(:last-child)::after {content: \"\\00b7\"; padding: 0 .5ex}\n",
              "</style>\n",
              "<ol class=list-inline><li>19742</li><li>9</li></ol>\n"
            ],
            "text/markdown": "1. 19742\n2. 9\n\n\n",
            "text/latex": "\\begin{enumerate*}\n\\item 19742\n\\item 9\n\\end{enumerate*}\n",
            "text/plain": [
              "[1] 19742     9"
            ]
          },
          "metadata": {}
        },
        {
          "output_type": "display_data",
          "data": {
            "text/plain": [
              "plot without title"
            ],
            "image/png": "[encoded data removed]"
          },
          "metadata": {
            "image/png": {
              "width": 420,
              "height": 420
            }
          }
        }
      ]
    },
    {
      "cell_type": "code",
      "source": [
        "#dimensionality reduction using lda:\n",
        " #Install topicmodels package (run only once)\n",
        "\n",
        "# Load it\n",
        "library(topicmodels)\n",
        "\n",
        "# Conduct LDA analysis, see text for details on setting\n",
        "# alpha and delta parameters.\n",
        "# WARNING: this may take quite some time!\n",
        "\n",
        "Mlda <- LDA(M, control = list(alpha = 10, delta = .1, seed=68), k = 5, method = \"Gibbs\")\n",
        "\n",
        "# Extract user LDA cluster memberships\n",
        "gamma <- Mlda@gamma\n",
        "\n",
        "# Extract Like LDA clusters memberships\n",
        "# betas are stored as logarithms,\n",
        "# function exp() is used to convert logs to probabilities\n",
        "beta <- exp(Mlda@beta)\n",
        "\n",
        "# Log-likelihood of the model is stored here:\n",
        "Mlda@loglikelihood\n",
        "\n",
        "# and can be also accessed using logLik() function:\n",
        "logLik(Mlda)\n",
        "\n",
        "# Let us estimate the log-likelihood for 2,3,4, and 5 cluster solutions:\n",
        "lg <- list()\n",
        "for (i in 2:5) {\n",
        "Mlda <- LDA(M, k = i, control = list(alpha = 10, delta = .1, seed = 68), method = \"Gibbs\")\n",
        "lg[[i]] <- logLik(Mlda)\n",
        "    }\n",
        "\n",
        "plot(2:5, unlist(lg))"
      ],
      "metadata": {
        "id": "1sN7ToIjZShv",
        "colab": {
          "base_uri": "https://localhost:8080/",
          "height": 471
        },
        "outputId": "f85d3c43-2f2c-4096-8f31-d86b7cadd24c"
      },
      "execution_count": null,
      "outputs": [
        {
          "output_type": "display_data",
          "data": {
            "text/html": [
              "-28853789.3298519"
            ],
            "text/markdown": "-28853789.3298519",
            "text/latex": "-28853789.3298519",
            "text/plain": [
              "[1] -28853789"
            ]
          },
          "metadata": {}
        },
        {
          "output_type": "display_data",
          "data": {
            "text/plain": [
              "'log Lik.' -28853789 (df=42615)"
            ]
          },
          "metadata": {}
        },
        {
          "output_type": "display_data",
          "data": {
            "text/plain": [
              "plot without title"
            ],
            "image/png": "[encoded data removed]"
          },
          "metadata": {
            "image/png": {
              "width": 420,
              "height": 420
            }
          }
        }
      ]
    },
    {
      "cell_type": "code",
      "source": [
        "# Correlate user traits and their SVD scores\n",
        "# users[,-1] is used to exclude the column with IDs\n",
        "cor(u_rot, users[,-1], use = \"pairwise\")\n",
        "\n",
        "# LDA version\n",
        "cor(gamma, users[,-1], use = \"pairwise\")\n",
        "\n",
        "# You need to install ggplot2 and reshape2 packages first, run only once:\n",
        "\n",
        "# Load these libraries\n",
        "library(ggplot2)\n",
        "library(reshape2)\n",
        "\n",
        "# Get correlations\n",
        "x<-round(cor(gamma, users[,-1], use=\"p\"),2)\n",
        "\n",
        "# Reshape it in an easy way using ggplot2\n",
        "y<-melt(x)\n",
        "colnames(y)<-c(\"LDA\", \"Trait\", \"r\")\n",
        "\n",
        "# Produce the plot for LDA\n",
        "qplot(x=LDA, y=Trait, data=y, fill=r, geom=\"tile\") +\n",
        "  scale_fill_gradient2(limits=range(x), breaks=c(min(x), 0, max(x)))+\n",
        "  scale_fill_distiller(palette = \"PiYG\")+\n",
        "  theme(axis.text=element_text(size=12),\n",
        "        axis.title=element_text(size=14,face=\"bold\"),\n",
        "        panel.background = element_rect(fill='white', colour='white'))+\n",
        "  labs(x=expression('LDA'), y=NULL)\n",
        "\n",
        "# Get correlations\n",
        "x<-round(cor(u_rot, users[,-1], use=\"p\"),2)\n",
        "\n",
        "# Reshape it in an easy way using ggplot2\n",
        "y<-melt(x)\n",
        "colnames(y)<-c(\"SVD\", \"Trait\", \"r\")\n",
        "\n",
        "# Produce the plot for SVD\n",
        "qplot(x=SVD, y=Trait, data=y, fill=r, geom=\"tile\") +\n",
        "  scale_fill_gradient2(limits=range(x), breaks=c(min(x), 0, max(x)))+\n",
        "  scale_fill_distiller(palette = \"PiYG\")+\n",
        "  theme(axis.text=element_text(size=12),\n",
        "        axis.title=element_text(size=14,face=\"bold\"),\n",
        "        panel.background = element_rect(fill='white', colour='white'))+\n",
        "  labs(x=expression('SVD'[rot]), y=NULL)\n"
      ],
      "metadata": {
        "id": "0dY7PKJ8ZSkw",
        "colab": {
          "base_uri": "https://localhost:8080/",
          "height": 1000
        },
        "outputId": "44a8b5e1-57d1-4958-f2d5-825d90e279ac"
      },
      "execution_count": null,
      "outputs": [
        {
          "output_type": "display_data",
          "data": {
            "text/html": [
              "<table class=\"dataframe\">\n",
              "<caption>A matrix: 5 × 8 of type dbl</caption>\n",
              "<thead>\n",
              "\t<tr><th scope=col>gender</th><th scope=col>age</th><th scope=col>political</th><th scope=col>ope</th><th scope=col>con</th><th scope=col>ext</th><th scope=col>agr</th><th scope=col>neu</th></tr>\n",
              "</thead>\n",
              "<tbody>\n",
              "\t<tr><td>-0.10953657</td><td> 0.19368386</td><td>-0.056812980</td><td> 0.05953814</td><td> 0.08043784</td><td>-0.0007292383</td><td> 0.023793501</td><td>-0.06812700</td></tr>\n",
              "\t<tr><td> 0.11346449</td><td>-0.15514696</td><td> 0.050868939</td><td>-0.09804944</td><td>-0.01712256</td><td> 0.0704625832</td><td> 0.019791846</td><td> 0.02459396</td></tr>\n",
              "\t<tr><td>-0.04417267</td><td>-0.02957446</td><td>-0.074555024</td><td> 0.10690329</td><td>-0.04245030</td><td>-0.0382197856</td><td>-0.023979950</td><td> 0.06352146</td></tr>\n",
              "\t<tr><td> 0.14993372</td><td>-0.12327545</td><td> 0.132233892</td><td>-0.17191957</td><td> 0.04345714</td><td> 0.0005994160</td><td> 0.002768277</td><td> 0.03140244</td></tr>\n",
              "\t<tr><td>-0.10387379</td><td> 0.15003235</td><td>-0.009270584</td><td> 0.06092183</td><td> 0.06947788</td><td>-0.0244310388</td><td> 0.043433257</td><td>-0.06622093</td></tr>\n",
              "</tbody>\n",
              "</table>\n"
            ],
            "text/markdown": "\nA matrix: 5 × 8 of type dbl\n\n| gender | age | political | ope | con | ext | agr | neu |\n|---|---|---|---|---|---|---|---|\n| -0.10953657 |  0.19368386 | -0.056812980 |  0.05953814 |  0.08043784 | -0.0007292383 |  0.023793501 | -0.06812700 |\n|  0.11346449 | -0.15514696 |  0.050868939 | -0.09804944 | -0.01712256 |  0.0704625832 |  0.019791846 |  0.02459396 |\n| -0.04417267 | -0.02957446 | -0.074555024 |  0.10690329 | -0.04245030 | -0.0382197856 | -0.023979950 |  0.06352146 |\n|  0.14993372 | -0.12327545 |  0.132233892 | -0.17191957 |  0.04345714 |  0.0005994160 |  0.002768277 |  0.03140244 |\n| -0.10387379 |  0.15003235 | -0.009270584 |  0.06092183 |  0.06947788 | -0.0244310388 |  0.043433257 | -0.06622093 |\n\n",
            "text/latex": "A matrix: 5 × 8 of type dbl\n\\begin{tabular}{llllllll}\n gender & age & political & ope & con & ext & agr & neu\\\\\n\\hline\n\t -0.10953657 &  0.19368386 & -0.056812980 &  0.05953814 &  0.08043784 & -0.0007292383 &  0.023793501 & -0.06812700\\\\\n\t  0.11346449 & -0.15514696 &  0.050868939 & -0.09804944 & -0.01712256 &  0.0704625832 &  0.019791846 &  0.02459396\\\\\n\t -0.04417267 & -0.02957446 & -0.074555024 &  0.10690329 & -0.04245030 & -0.0382197856 & -0.023979950 &  0.06352146\\\\\n\t  0.14993372 & -0.12327545 &  0.132233892 & -0.17191957 &  0.04345714 &  0.0005994160 &  0.002768277 &  0.03140244\\\\\n\t -0.10387379 &  0.15003235 & -0.009270584 &  0.06092183 &  0.06947788 & -0.0244310388 &  0.043433257 & -0.06622093\\\\\n\\end{tabular}\n",
            "text/plain": [
              "     gender      age         political    ope         con         ext          \n",
              "[1,] -0.10953657  0.19368386 -0.056812980  0.05953814  0.08043784 -0.0007292383\n",
              "[2,]  0.11346449 -0.15514696  0.050868939 -0.09804944 -0.01712256  0.0704625832\n",
              "[3,] -0.04417267 -0.02957446 -0.074555024  0.10690329 -0.04245030 -0.0382197856\n",
              "[4,]  0.14993372 -0.12327545  0.132233892 -0.17191957  0.04345714  0.0005994160\n",
              "[5,] -0.10387379  0.15003235 -0.009270584  0.06092183  0.06947788 -0.0244310388\n",
              "     agr          neu        \n",
              "[1,]  0.023793501 -0.06812700\n",
              "[2,]  0.019791846  0.02459396\n",
              "[3,] -0.023979950  0.06352146\n",
              "[4,]  0.002768277  0.03140244\n",
              "[5,]  0.043433257 -0.06622093"
            ]
          },
          "metadata": {}
        },
        {
          "output_type": "display_data",
          "data": {
            "text/html": [
              "<table class=\"dataframe\">\n",
              "<caption>A matrix: 5 × 8 of type dbl</caption>\n",
              "<thead>\n",
              "\t<tr><th scope=col>gender</th><th scope=col>age</th><th scope=col>political</th><th scope=col>ope</th><th scope=col>con</th><th scope=col>ext</th><th scope=col>agr</th><th scope=col>neu</th></tr>\n",
              "</thead>\n",
              "<tbody>\n",
              "\t<tr><td> 0.112419093</td><td>-0.26071629</td><td> 0.07497966</td><td>-0.1142869</td><td>-0.08023523</td><td> 0.006272034</td><td>-0.039308819</td><td> 0.05452768</td></tr>\n",
              "\t<tr><td>-0.007727802</td><td>-0.28845406</td><td> 0.10866050</td><td>-0.1198447</td><td>-0.05798437</td><td>-0.013450591</td><td> 0.010205735</td><td> 0.01558696</td></tr>\n",
              "\t<tr><td>-0.177605261</td><td> 0.20525614</td><td>-0.17372767</td><td> 0.2291082</td><td>-0.02658064</td><td>-0.035873572</td><td>-0.011223390</td><td>-0.04794108</td></tr>\n",
              "\t<tr><td>-0.065904031</td><td> 0.07815332</td><td>-0.08551120</td><td> 0.1257338</td><td> 0.02217477</td><td>-0.049781816</td><td>-0.003458568</td><td> 0.01721530</td></tr>\n",
              "\t<tr><td> 0.134394672</td><td> 0.30061802</td><td> 0.15810928</td><td>-0.1724606</td><td> 0.17932320</td><td> 0.114889803</td><td> 0.073702799</td><td>-0.06674670</td></tr>\n",
              "</tbody>\n",
              "</table>\n"
            ],
            "text/markdown": "\nA matrix: 5 × 8 of type dbl\n\n| gender | age | political | ope | con | ext | agr | neu |\n|---|---|---|---|---|---|---|---|\n|  0.112419093 | -0.26071629 |  0.07497966 | -0.1142869 | -0.08023523 |  0.006272034 | -0.039308819 |  0.05452768 |\n| -0.007727802 | -0.28845406 |  0.10866050 | -0.1198447 | -0.05798437 | -0.013450591 |  0.010205735 |  0.01558696 |\n| -0.177605261 |  0.20525614 | -0.17372767 |  0.2291082 | -0.02658064 | -0.035873572 | -0.011223390 | -0.04794108 |\n| -0.065904031 |  0.07815332 | -0.08551120 |  0.1257338 |  0.02217477 | -0.049781816 | -0.003458568 |  0.01721530 |\n|  0.134394672 |  0.30061802 |  0.15810928 | -0.1724606 |  0.17932320 |  0.114889803 |  0.073702799 | -0.06674670 |\n\n",
            "text/latex": "A matrix: 5 × 8 of type dbl\n\\begin{tabular}{llllllll}\n gender & age & political & ope & con & ext & agr & neu\\\\\n\\hline\n\t  0.112419093 & -0.26071629 &  0.07497966 & -0.1142869 & -0.08023523 &  0.006272034 & -0.039308819 &  0.05452768\\\\\n\t -0.007727802 & -0.28845406 &  0.10866050 & -0.1198447 & -0.05798437 & -0.013450591 &  0.010205735 &  0.01558696\\\\\n\t -0.177605261 &  0.20525614 & -0.17372767 &  0.2291082 & -0.02658064 & -0.035873572 & -0.011223390 & -0.04794108\\\\\n\t -0.065904031 &  0.07815332 & -0.08551120 &  0.1257338 &  0.02217477 & -0.049781816 & -0.003458568 &  0.01721530\\\\\n\t  0.134394672 &  0.30061802 &  0.15810928 & -0.1724606 &  0.17932320 &  0.114889803 &  0.073702799 & -0.06674670\\\\\n\\end{tabular}\n",
            "text/plain": [
              "     gender       age         political   ope        con         ext         \n",
              "[1,]  0.112419093 -0.26071629  0.07497966 -0.1142869 -0.08023523  0.006272034\n",
              "[2,] -0.007727802 -0.28845406  0.10866050 -0.1198447 -0.05798437 -0.013450591\n",
              "[3,] -0.177605261  0.20525614 -0.17372767  0.2291082 -0.02658064 -0.035873572\n",
              "[4,] -0.065904031  0.07815332 -0.08551120  0.1257338  0.02217477 -0.049781816\n",
              "[5,]  0.134394672  0.30061802  0.15810928 -0.1724606  0.17932320  0.114889803\n",
              "     agr          neu        \n",
              "[1,] -0.039308819  0.05452768\n",
              "[2,]  0.010205735  0.01558696\n",
              "[3,] -0.011223390 -0.04794108\n",
              "[4,] -0.003458568  0.01721530\n",
              "[5,]  0.073702799 -0.06674670"
            ]
          },
          "metadata": {}
        },
        {
          "output_type": "stream",
          "name": "stderr",
          "text": [
            "\n",
            "Attaching package: ‘reshape2’\n",
            "\n",
            "\n",
            "The following objects are masked from ‘package:data.table’:\n",
            "\n",
            "    dcast, melt\n",
            "\n",
            "\n",
            "Warning message:\n",
            "“\u001b[1m\u001b[22m`qplot()` was deprecated in ggplot2 3.4.0.”\n",
            "\u001b[1m\u001b[22mScale for \u001b[32mfill\u001b[39m is already present.\n",
            "Adding another scale for \u001b[32mfill\u001b[39m, which will replace the existing scale.\n",
            "\u001b[1m\u001b[22mScale for \u001b[32mfill\u001b[39m is already present.\n",
            "Adding another scale for \u001b[32mfill\u001b[39m, which will replace the existing scale.\n"
          ]
        },
        {
          "output_type": "display_data",
          "data": {
            "text/plain": [
              "plot without title"
            ],
            "image/png": "[encoded data removed]"
          },
          "metadata": {
            "image/png": {
              "width": 420,
              "height": 420
            }
          }
        },
        {
          "output_type": "display_data",
          "data": {
            "text/plain": [
              "plot without title"
            ],
            "image/png": "[encoded data removed]"
          },
          "metadata": {
            "image/png": {
              "width": 420,
              "height": 420
            }
          }
        }
      ]
    },
    {
      "cell_type": "code",
      "source": [
        "# SVD\n",
        "top_svd <- list()\n",
        "bottom_svd <-list()\n",
        "for (i in 1:5) {\n",
        "f <- order(v_rot[ ,i])\n",
        "temp <- tail(f, n = 10)\n",
        "top_svd[[i]]<-colnames(M)[temp]\n",
        "temp <- head(f, n = 10)\n",
        "bottom_svd[[i]]<-colnames(M)[temp]\n",
        "}\n",
        "\n",
        "# LDA\n",
        "top_lda <- list()\n",
        "for (i in 1:5) {\n",
        "f <- order(beta[i,])\n",
        "temp <- tail(f, n = 10)\n",
        "top_lda[[i]]<-colnames(M)[temp]\n",
        "}\n"
      ],
      "metadata": {
        "id": "vaOKkXCTZSoL"
      },
      "execution_count": null,
      "outputs": []
    },
    {
      "cell_type": "code",
      "source": [
        "#building prediction models:\n",
        "# Split users into 10 groups\n",
        "folds <- sample(1:10, size = nrow(users), replace = T)\n",
        "\n",
        "# Take users from group 1 and assign them to the TEST subset\n",
        "test <- folds == 1\n",
        "\n",
        "# Extract SVD dimensions from the TRAINING subset\n",
        "# training set can be accessed using !test\n",
        "Msvd <- irlba(M[!test, ], nv = 50)\n",
        "\n",
        "# Rotate Like SVD scores (V)\n",
        "v_rot <- unclass(varimax(Msvd$v)$loadings)\n",
        "\n",
        "# Rotate user SVD scores *for the entire sample*\n",
        "u_rot <- as.data.frame(as.matrix(M %*% v_rot))\n",
        "\n",
        "# Build linear regression model for openness\n",
        "# using TRAINING subset\n",
        "fit_o <- glm(users$ope~., data = u_rot, subset = !test) #glm() stands for general linear model for the data\n",
        "\n",
        "# Inspect the regression coefficients\n",
        "coef(fit_o)\n",
        "\n",
        "# Do the same for gender\n",
        "# use family = \"binomial\" for logistic regression model\n",
        "fit_g <- glm(users$gender~.,data = u_rot, subset = !test, family = \"binomial\")\n",
        "\n",
        "# Compute the predictions for the TEST subset\n",
        "pred_o <- predict(fit_o, u_rot[test, ])\n",
        "pred_g <- predict(fit_g, u_rot[test, ], type = \"response\")\n",
        "\n",
        "# Correlate predicted and actual values for the TEST subset\n",
        "r <- cor(users$ope[test], pred_o)\n",
        "r\n",
        "\n",
        "# Compute Area Under the Curve for gender\n",
        "# remember to install ROCR library first\n",
        "library(ROCR)\n",
        "temp <- prediction(pred_g, users$gender[test])\n",
        "auc <- performance(temp,\"auc\")@y.values\n",
        "\n",
        "Msvd <- irlba(M[!test, ], nv = 150)\n",
        "#examining the accuracy accross different values of k, that is for different values of dimensions:\n",
        "# Choose which k are to be included in the analysis\n",
        "ks<-c(2:10,15,20,30,40,50,60,70,80,90,100,120,150)\n",
        "\n",
        "# Preset an empty list to hold the results\n",
        "rs <- list()\n",
        "\n",
        "# Run the code below for each k in ks\n",
        "for (k in ks){\n",
        "# Varimax rotate Like SVD dimensions 1 to k\n",
        "v_rot <- unclass(varimax(Msvd$v[, 1:k])$loadings)\n",
        "\n",
        "# This code is exactly like the one discussed earlier\n",
        "u_rot <- as.data.frame(as.matrix(M %*% v_rot))\n",
        "fit_o <- glm(users$ope~., data = u_rot, subset = !test)\n",
        "pred_o <- predict(fit_o, u_rot[test, ])\n",
        "\n",
        "# Save the resulting correlation coefficient as the\n",
        "# element of R called k\n",
        "rs[[as.character(k)]] <- cor(users$ope[test], pred_o)\n",
        "}\n",
        "\n",
        "# Check the results\n",
        "rs"
      ],
      "metadata": {
        "id": "idhiJn3QZSrh",
        "colab": {
          "base_uri": "https://localhost:8080/",
          "height": 963
        },
        "outputId": "5bc6c638-8902-4a0e-cf8c-296d7e90f8fe"
      },
      "execution_count": null,
      "outputs": [
        {
          "output_type": "display_data",
          "data": {
            "text/html": [
              "<style>\n",
              ".dl-inline {width: auto; margin:0; padding: 0}\n",
              ".dl-inline>dt, .dl-inline>dd {float: none; width: auto; display: inline-block}\n",
              ".dl-inline>dt::after {content: \":\\0020\"; padding-right: .5ex}\n",
              ".dl-inline>dt:not(:first-of-type) {padding-left: .5ex}\n",
              "</style><dl class=dl-inline><dt>(Intercept)</dt><dd>-0.0230463515010585</dd><dt>V1</dt><dd>0.0326540167040287</dd><dt>V2</dt><dd>0.082829655564184</dd><dt>V3</dt><dd>-0.0862492569770082</dd><dt>V4</dt><dd>-0.0446778915572892</dd><dt>V5</dt><dd>0.0120761987198602</dd><dt>V6</dt><dd>0.110186419093608</dd><dt>V7</dt><dd>0.119296088403965</dd><dt>V8</dt><dd>0.0532799106685242</dd><dt>V9</dt><dd>-0.0573109897758341</dd><dt>V10</dt><dd>0.0676705797446817</dd><dt>V11</dt><dd>0.000622751392372895</dd><dt>V12</dt><dd>-0.00360762433136362</dd><dt>V13</dt><dd>-0.189773069565905</dd><dt>V14</dt><dd>-0.107310404114294</dd><dt>V15</dt><dd>-0.0342430662693223</dd><dt>V16</dt><dd>0.0402742292031304</dd><dt>V17</dt><dd>0.117714648503251</dd><dt>V18</dt><dd>-0.199230592439562</dd><dt>V19</dt><dd>0.0382966853526191</dd><dt>V20</dt><dd>0.000636172529346973</dd><dt>V21</dt><dd>0.00291960203395016</dd><dt>V22</dt><dd>0.00611005941882822</dd><dt>V23</dt><dd>-0.216519513106447</dd><dt>V24</dt><dd>0.00681429199575087</dd><dt>V25</dt><dd>-0.0273934029528316</dd><dt>V26</dt><dd>-0.017134487432576</dd><dt>V27</dt><dd>-0.0286890298812974</dd><dt>V28</dt><dd>-0.0406610786635676</dd><dt>V29</dt><dd>-0.0211667892131665</dd><dt>V30</dt><dd>0.0626595336384053</dd><dt>V31</dt><dd>0.0806405811225829</dd><dt>V32</dt><dd>0.0138495463820274</dd><dt>V33</dt><dd>0.0946900691220636</dd><dt>V34</dt><dd>-0.060454833237425</dd><dt>V35</dt><dd>-0.0265667721210422</dd><dt>V36</dt><dd>0.122218139416242</dd><dt>V37</dt><dd>-0.0462963444206235</dd><dt>V38</dt><dd>-0.0317743491430158</dd><dt>V39</dt><dd>-0.00994781879274539</dd><dt>V40</dt><dd>0.0744435062491255</dd><dt>V41</dt><dd>0.0464087990195582</dd><dt>V42</dt><dd>0.0737062883210967</dd><dt>V43</dt><dd>-0.0481199549679443</dd><dt>V44</dt><dd>-0.0680299057699388</dd><dt>V45</dt><dd>-0.167266576890199</dd><dt>V46</dt><dd>0.0209956600222802</dd><dt>V47</dt><dd>-0.0455319920989981</dd><dt>V48</dt><dd>-0.0108054421636217</dd><dt>V49</dt><dd>-0.0702451889798526</dd><dt>V50</dt><dd>-0.0284106926028632</dd></dl>\n"
            ],
            "text/markdown": "(Intercept)\n:   -0.0230463515010585V1\n:   0.0326540167040287V2\n:   0.082829655564184V3\n:   -0.0862492569770082V4\n:   -0.0446778915572892V5\n:   0.0120761987198602V6\n:   0.110186419093608V7\n:   0.119296088403965V8\n:   0.0532799106685242V9\n:   -0.0573109897758341V10\n:   0.0676705797446817V11\n:   0.000622751392372895V12\n:   -0.00360762433136362V13\n:   -0.189773069565905V14\n:   -0.107310404114294V15\n:   -0.0342430662693223V16\n:   0.0402742292031304V17\n:   0.117714648503251V18\n:   -0.199230592439562V19\n:   0.0382966853526191V20\n:   0.000636172529346973V21\n:   0.00291960203395016V22\n:   0.00611005941882822V23\n:   -0.216519513106447V24\n:   0.00681429199575087V25\n:   -0.0273934029528316V26\n:   -0.017134487432576V27\n:   -0.0286890298812974V28\n:   -0.0406610786635676V29\n:   -0.0211667892131665V30\n:   0.0626595336384053V31\n:   0.0806405811225829V32\n:   0.0138495463820274V33\n:   0.0946900691220636V34\n:   -0.060454833237425V35\n:   -0.0265667721210422V36\n:   0.122218139416242V37\n:   -0.0462963444206235V38\n:   -0.0317743491430158V39\n:   -0.00994781879274539V40\n:   0.0744435062491255V41\n:   0.0464087990195582V42\n:   0.0737062883210967V43\n:   -0.0481199549679443V44\n:   -0.0680299057699388V45\n:   -0.167266576890199V46\n:   0.0209956600222802V47\n:   -0.0455319920989981V48\n:   -0.0108054421636217V49\n:   -0.0702451889798526V50\n:   -0.0284106926028632\n\n",
            "text/latex": "\\begin{description*}\n\\item[(Intercept)] -0.0230463515010585\n\\item[V1] 0.0326540167040287\n\\item[V2] 0.082829655564184\n\\item[V3] -0.0862492569770082\n\\item[V4] -0.0446778915572892\n\\item[V5] 0.0120761987198602\n\\item[V6] 0.110186419093608\n\\item[V7] 0.119296088403965\n\\item[V8] 0.0532799106685242\n\\item[V9] -0.0573109897758341\n\\item[V10] 0.0676705797446817\n\\item[V11] 0.000622751392372895\n\\item[V12] -0.00360762433136362\n\\item[V13] -0.189773069565905\n\\item[V14] -0.107310404114294\n\\item[V15] -0.0342430662693223\n\\item[V16] 0.0402742292031304\n\\item[V17] 0.117714648503251\n\\item[V18] -0.199230592439562\n\\item[V19] 0.0382966853526191\n\\item[V20] 0.000636172529346973\n\\item[V21] 0.00291960203395016\n\\item[V22] 0.00611005941882822\n\\item[V23] -0.216519513106447\n\\item[V24] 0.00681429199575087\n\\item[V25] -0.0273934029528316\n\\item[V26] -0.017134487432576\n\\item[V27] -0.0286890298812974\n\\item[V28] -0.0406610786635676\n\\item[V29] -0.0211667892131665\n\\item[V30] 0.0626595336384053\n\\item[V31] 0.0806405811225829\n\\item[V32] 0.0138495463820274\n\\item[V33] 0.0946900691220636\n\\item[V34] -0.060454833237425\n\\item[V35] -0.0265667721210422\n\\item[V36] 0.122218139416242\n\\item[V37] -0.0462963444206235\n\\item[V38] -0.0317743491430158\n\\item[V39] -0.00994781879274539\n\\item[V40] 0.0744435062491255\n\\item[V41] 0.0464087990195582\n\\item[V42] 0.0737062883210967\n\\item[V43] -0.0481199549679443\n\\item[V44] -0.0680299057699388\n\\item[V45] -0.167266576890199\n\\item[V46] 0.0209956600222802\n\\item[V47] -0.0455319920989981\n\\item[V48] -0.0108054421636217\n\\item[V49] -0.0702451889798526\n\\item[V50] -0.0284106926028632\n\\end{description*}\n",
            "text/plain": [
              "  (Intercept)            V1            V2            V3            V4 \n",
              "-0.0230463515  0.0326540167  0.0828296556 -0.0862492570 -0.0446778916 \n",
              "           V5            V6            V7            V8            V9 \n",
              " 0.0120761987  0.1101864191  0.1192960884  0.0532799107 -0.0573109898 \n",
              "          V10           V11           V12           V13           V14 \n",
              " 0.0676705797  0.0006227514 -0.0036076243 -0.1897730696 -0.1073104041 \n",
              "          V15           V16           V17           V18           V19 \n",
              "-0.0342430663  0.0402742292  0.1177146485 -0.1992305924  0.0382966854 \n",
              "          V20           V21           V22           V23           V24 \n",
              " 0.0006361725  0.0029196020  0.0061100594 -0.2165195131  0.0068142920 \n",
              "          V25           V26           V27           V28           V29 \n",
              "-0.0273934030 -0.0171344874 -0.0286890299 -0.0406610787 -0.0211667892 \n",
              "          V30           V31           V32           V33           V34 \n",
              " 0.0626595336  0.0806405811  0.0138495464  0.0946900691 -0.0604548332 \n",
              "          V35           V36           V37           V38           V39 \n",
              "-0.0265667721  0.1222181394 -0.0462963444 -0.0317743491 -0.0099478188 \n",
              "          V40           V41           V42           V43           V44 \n",
              " 0.0744435062  0.0464087990  0.0737062883 -0.0481199550 -0.0680299058 \n",
              "          V45           V46           V47           V48           V49 \n",
              "-0.1672665769  0.0209956600 -0.0455319921 -0.0108054422 -0.0702451890 \n",
              "          V50 \n",
              "-0.0284106926 "
            ]
          },
          "metadata": {}
        },
        {
          "output_type": "stream",
          "name": "stderr",
          "text": [
            "Warning message:\n",
            "“glm.fit: fitted probabilities numerically 0 or 1 occurred”\n"
          ]
        },
        {
          "output_type": "display_data",
          "data": {
            "text/html": [
              "0.3800972034259"
            ],
            "text/markdown": "0.3800972034259",
            "text/latex": "0.3800972034259",
            "text/plain": [
              "[1] 0.3800972"
            ]
          },
          "metadata": {}
        },
        {
          "output_type": "display_data",
          "data": {
            "text/html": [
              "<dl>\n",
              "\t<dt>$`2`</dt>\n",
              "\t\t<dd>0.0832558632137135</dd>\n",
              "\t<dt>$`3`</dt>\n",
              "\t\t<dd>0.212196969701541</dd>\n",
              "\t<dt>$`4`</dt>\n",
              "\t\t<dd>0.215322922146236</dd>\n",
              "\t<dt>$`5`</dt>\n",
              "\t\t<dd>0.219047877037768</dd>\n",
              "\t<dt>$`6`</dt>\n",
              "\t\t<dd>0.219882180233361</dd>\n",
              "\t<dt>$`7`</dt>\n",
              "\t\t<dd>0.223533303896494</dd>\n",
              "\t<dt>$`8`</dt>\n",
              "\t\t<dd>0.254908687801501</dd>\n",
              "\t<dt>$`9`</dt>\n",
              "\t\t<dd>0.257832028858335</dd>\n",
              "\t<dt>$`10`</dt>\n",
              "\t\t<dd>0.258443493626573</dd>\n",
              "\t<dt>$`15`</dt>\n",
              "\t\t<dd>0.278862892184732</dd>\n",
              "\t<dt>$`20`</dt>\n",
              "\t\t<dd>0.341355612270169</dd>\n",
              "\t<dt>$`30`</dt>\n",
              "\t\t<dd>0.343256750551545</dd>\n",
              "\t<dt>$`40`</dt>\n",
              "\t\t<dd>0.370043500005754</dd>\n",
              "\t<dt>$`50`</dt>\n",
              "\t\t<dd>0.38009694471161</dd>\n",
              "\t<dt>$`60`</dt>\n",
              "\t\t<dd>0.38573606685031</dd>\n",
              "\t<dt>$`70`</dt>\n",
              "\t\t<dd>0.386657796869249</dd>\n",
              "\t<dt>$`80`</dt>\n",
              "\t\t<dd>0.392116872090055</dd>\n",
              "\t<dt>$`90`</dt>\n",
              "\t\t<dd>0.391984508656405</dd>\n",
              "\t<dt>$`100`</dt>\n",
              "\t\t<dd>0.39141617701336</dd>\n",
              "\t<dt>$`120`</dt>\n",
              "\t\t<dd>0.393657445417888</dd>\n",
              "\t<dt>$`150`</dt>\n",
              "\t\t<dd>0.395611015681289</dd>\n",
              "</dl>\n"
            ],
            "text/markdown": "$`2`\n:   0.0832558632137135\n$`3`\n:   0.212196969701541\n$`4`\n:   0.215322922146236\n$`5`\n:   0.219047877037768\n$`6`\n:   0.219882180233361\n$`7`\n:   0.223533303896494\n$`8`\n:   0.254908687801501\n$`9`\n:   0.257832028858335\n$`10`\n:   0.258443493626573\n$`15`\n:   0.278862892184732\n$`20`\n:   0.341355612270169\n$`30`\n:   0.343256750551545\n$`40`\n:   0.370043500005754\n$`50`\n:   0.38009694471161\n$`60`\n:   0.38573606685031\n$`70`\n:   0.386657796869249\n$`80`\n:   0.392116872090055\n$`90`\n:   0.391984508656405\n$`100`\n:   0.39141617701336\n$`120`\n:   0.393657445417888\n$`150`\n:   0.395611015681289\n\n\n",
            "text/latex": "\\begin{description}\n\\item[\\$`2`] 0.0832558632137135\n\\item[\\$`3`] 0.212196969701541\n\\item[\\$`4`] 0.215322922146236\n\\item[\\$`5`] 0.219047877037768\n\\item[\\$`6`] 0.219882180233361\n\\item[\\$`7`] 0.223533303896494\n\\item[\\$`8`] 0.254908687801501\n\\item[\\$`9`] 0.257832028858335\n\\item[\\$`10`] 0.258443493626573\n\\item[\\$`15`] 0.278862892184732\n\\item[\\$`20`] 0.341355612270169\n\\item[\\$`30`] 0.343256750551545\n\\item[\\$`40`] 0.370043500005754\n\\item[\\$`50`] 0.38009694471161\n\\item[\\$`60`] 0.38573606685031\n\\item[\\$`70`] 0.386657796869249\n\\item[\\$`80`] 0.392116872090055\n\\item[\\$`90`] 0.391984508656405\n\\item[\\$`100`] 0.39141617701336\n\\item[\\$`120`] 0.393657445417888\n\\item[\\$`150`] 0.395611015681289\n\\end{description}\n",
            "text/plain": [
              "$`2`\n",
              "[1] 0.08325586\n",
              "\n",
              "$`3`\n",
              "[1] 0.212197\n",
              "\n",
              "$`4`\n",
              "[1] 0.2153229\n",
              "\n",
              "$`5`\n",
              "[1] 0.2190479\n",
              "\n",
              "$`6`\n",
              "[1] 0.2198822\n",
              "\n",
              "$`7`\n",
              "[1] 0.2235333\n",
              "\n",
              "$`8`\n",
              "[1] 0.2549087\n",
              "\n",
              "$`9`\n",
              "[1] 0.257832\n",
              "\n",
              "$`10`\n",
              "[1] 0.2584435\n",
              "\n",
              "$`15`\n",
              "[1] 0.2788629\n",
              "\n",
              "$`20`\n",
              "[1] 0.3413556\n",
              "\n",
              "$`30`\n",
              "[1] 0.3432568\n",
              "\n",
              "$`40`\n",
              "[1] 0.3700435\n",
              "\n",
              "$`50`\n",
              "[1] 0.3800969\n",
              "\n",
              "$`60`\n",
              "[1] 0.3857361\n",
              "\n",
              "$`70`\n",
              "[1] 0.3866578\n",
              "\n",
              "$`80`\n",
              "[1] 0.3921169\n",
              "\n",
              "$`90`\n",
              "[1] 0.3919845\n",
              "\n",
              "$`100`\n",
              "[1] 0.3914162\n",
              "\n",
              "$`120`\n",
              "[1] 0.3936574\n",
              "\n",
              "$`150`\n",
              "[1] 0.395611\n"
            ]
          },
          "metadata": {}
        }
      ]
    },
    {
      "cell_type": "code",
      "source": [
        "# Convert rs into the correct format for plotting\n",
        "data<-data.frame(k=ks, r=as.numeric(rs))\n",
        "\n",
        "# plotfor svd vs K\n",
        "ggplot(data=data, aes(x=k, y=r, group=1)) +\n",
        "    theme_light() +\n",
        "    stat_smooth(colour=\"blue\", linetype=\"dashed\", size=1,se=F) +\n",
        "    geom_point(colour=\"red\", size=2, shape=21, fill=\"white\") +\n",
        "    scale_y_continuous(breaks = seq(0, .5, by = 0.05))\n",
        "\n",
        "Msvd <- irlba(M[!test, ], nv = 150)\n",
        "# Start predictions\n",
        "set.seed(seed=68)\n",
        "n_folds<-10                # set number of folds\n",
        "kvals<- c(10,15,20,30,40,50,60,70,80,90,100,120,150)      # set k\n",
        "vars<-colnames(users)[-1]  # choose variables to predict\n",
        "\n",
        "folds <- sample(1:n_folds, size = nrow(users), replace = T)\n",
        "\n",
        "results<-list()\n",
        "accuracies<-c()\n",
        "\n",
        "for (k in kvals){\n",
        "  print(k)\n",
        "  for (fold in 1:n_folds){\n",
        "    print(paste(\"Cross-validated predictions, fold:\", fold))\n",
        "    test <- folds == fold\n",
        "\n",
        "    # If you want to use SVD:\n",
        "    Msvd <- irlba(M[!test, ], nv = k)\n",
        "    v_rot <- unclass(varimax(Msvd$v[, 1:k])$loadings)\n",
        "    predictors <- as.data.frame(as.matrix(M %*% v_rot))\n",
        "\n",
        "\n",
        "    for (var in vars){\n",
        "      results[[var]]<-rep(NA, n = nrow(users))\n",
        "      # check if the variable is dichotomous\n",
        "      if (length(unique(na.omit(users[,var]))) ==2) {\n",
        "        fit <- glm(users[,var]~., data = predictors, subset = !test, family = \"binomial\")\n",
        "        results[[var]][test] <- predict(fit, predictors[test, ], type = \"response\")\n",
        "      } else {\n",
        "        fit<-glm(users[,var]~., data = predictors, subset = !test)\n",
        "        results[[var]][test] <- predict(fit, predictors[test, ])\n",
        "      }\n",
        "      print(paste(\" Variable\", var, \"done.\"))\n",
        "    }\n",
        "  }\n",
        "\n",
        "  compute_accuracy <- function(ground_truth, predicted){\n",
        "    if (length(unique(na.omit(ground_truth))) ==2) {\n",
        "      f<-which(!is.na(ground_truth))\n",
        "      temp <- prediction(predicted[f], ground_truth[f])\n",
        "      return(performance(temp,\"auc\")@y.values)\n",
        "    } else {return(cor(ground_truth, predicted,use = \"pairwise\"))}\n",
        "  }\n",
        "\n",
        "  for (var in vars) accuracies <- c(accuracies,compute_accuracy(users[,var][test], results[[var]][test]))\n",
        "\n",
        "}\n",
        "print(accuracies)\n",
        "\n",
        "traits <- c('Gender','Age','Political-Factor','Openness','Conscientiousness','Extroversion','Agreeableness','Neuroticism')\n",
        "\n",
        "k <- c(10,10,10,10,10,10,10,10,15,15,15,15,15,15,15,15,20,20,20,20,20,20,20,20,30,30,30,30,30,30,30,30,40,40,40,40,40,40,40,40,50,50,50,50,50,50,50,50,60,60,60,60,60,60,60,60,70,70,70,70,70,70,70,70,80,80,80,80,80,80,80,80,90,90,90,90,90,90,90,90,100,100,100,100,100,100,100,100,120,120,120,120,120,120,120,120,150,150,150,150,150,150,150,150)\n",
        "names <- c(\"SVD\",\"SVD\",\"SVD\",\"SVD\",\"SVD\",\"SVD\",\"SVD\",\"SVD\",\"LDA\",\"LDA\",\"LDA\",\"LDA\",\"LDA\",\"LDA\",\"LDA\",\"LDA\")\n",
        "\n",
        "data_valsvd<-data.frame(People_Personality_Traits=traits, accuracies=as.numeric(accuracies),k=k)\n",
        "# plot SVD vs K\n",
        "ggplot(data_valsvd,aes(x = People_Personality_Traits, y = accuracies, group = k, color = k)) +\n",
        "  geom_line()+\n",
        "  theme_light() +\n",
        "  ggtitle(\"Predition-Accuracy with Change in Dimensions\")+\n",
        "  ylab(label=\"Reported Accuracies\") +\n",
        "  xlab(\"People_Personality_Traits\")+\n",
        "  geom_point()\n",
        "#traits <- c('Gender','Age','Political-Factor','Openness','Conscientiousness','Extroversion','Agreeableness','Neuroticism')\n",
        "#k <- c(10,10,10,10,10,10,10,10,15,15,15,15,15,15,15,15,20,20,20,20,20,20,20,20,30,30,30,30,30,30,30,30,40,40,40,40,40,40,40,40,50,50,50,50,50,50,50,50,60,60,60,60,60,60,60,60,70,70,70,70,70,70,70,70,80,80,80,80,80,80,80,80,90,90,90,90,90,90,90,90,100,100,100,100,100,100,100,100,120,120,120,120,120,120,120,120,150,150,150,150,150,150,150,150)\n",
        "#names <- c(\"SVD\",\"LDA\")\n",
        "\n",
        "#data_val<-data.frame(Traits=traits, accuracy=as.numeric(accuracies),dimensions=k)\n",
        "# plot SVD vs K\n",
        "#ggplot(data_val,aes(x = Traits, y = accuracy, group = dimensions, color = dimensions)) +\n",
        "#  geom_line()+\n",
        "#  theme_light() +\n",
        "#  ggtitle(\"Predition-Accuracy with Change in Dimensions\")+\n",
        "#  ylab(label=\"Accuracy\") +\n",
        "#  xlab(\"Traits\")+\n",
        "#  geom_point()\n",
        "\n",
        "accuracies_lda <- c(0.93,0.60,0.85,0.44,0.21,0.28,0.22,0.30,0.87,0.67,0.80,0.41,0.20,0.25,0.17,0.25)\n",
        "data_val<-data.frame(People_Personality_Traits=traits, accuracies=as.numeric(accuracies_lda),k=names)\n",
        "# plot SVD vs LDA\n",
        "library(ggplot2)\n",
        "ggplot(data_val,aes(x = People_Personality_Traits, y = accuracies_lda, group = names, color = names)) +\n",
        "  geom_line()+\n",
        "  theme_light() +\n",
        "  ggtitle(\"SVD vs LDA\")+\n",
        "  ylab(label=\"Reported Accuracies\") +\n",
        "  xlab(\"People_Personality_Traits\")+\n",
        "  geom_point()\n",
        "ggsave(\"test1.tiff\", width = 30, height = 20 , units = \"cm\")"
      ],
      "metadata": {
        "colab": {
          "base_uri": "https://localhost:8080/",
          "height": 1000
        },
        "id": "WW3pbwRjltFA",
        "outputId": "5f126c58-8f65-45af-f489-30cba09df1ff"
      },
      "execution_count": null,
      "outputs": [
        {
          "output_type": "stream",
          "name": "stderr",
          "text": [
            "Warning message:\n",
            "“\u001b[1m\u001b[22mUsing `size` aesthetic for lines was deprecated in ggplot2 3.4.0.\n",
            "\u001b[36mℹ\u001b[39m Please use `linewidth` instead.”\n",
            "\u001b[1m\u001b[22m`geom_smooth()` using method = 'loess' and formula = 'y ~ x'\n"
          ]
        },
        {
          "output_type": "stream",
          "name": "stdout",
          "text": [
            "[1] 10\n",
            "[1] \"Cross-validated predictions, fold: 1\"\n",
            "[1] \" Variable gender done.\"\n",
            "[1] \" Variable age done.\"\n",
            "[1] \" Variable political done.\"\n",
            "[1] \" Variable ope done.\"\n",
            "[1] \" Variable con done.\"\n",
            "[1] \" Variable ext done.\"\n",
            "[1] \" Variable agr done.\"\n",
            "[1] \" Variable neu done.\"\n",
            "[1] \"Cross-validated predictions, fold: 2\"\n",
            "[1] \" Variable gender done.\"\n",
            "[1] \" Variable age done.\"\n",
            "[1] \" Variable political done.\"\n",
            "[1] \" Variable ope done.\"\n",
            "[1] \" Variable con done.\"\n",
            "[1] \" Variable ext done.\"\n",
            "[1] \" Variable agr done.\"\n",
            "[1] \" Variable neu done.\"\n",
            "[1] \"Cross-validated predictions, fold: 3\"\n",
            "[1] \" Variable gender done.\"\n",
            "[1] \" Variable age done.\"\n",
            "[1] \" Variable political done.\"\n",
            "[1] \" Variable ope done.\"\n",
            "[1] \" Variable con done.\"\n",
            "[1] \" Variable ext done.\"\n",
            "[1] \" Variable agr done.\"\n",
            "[1] \" Variable neu done.\"\n",
            "[1] \"Cross-validated predictions, fold: 4\"\n",
            "[1] \" Variable gender done.\"\n",
            "[1] \" Variable age done.\"\n",
            "[1] \" Variable political done.\"\n",
            "[1] \" Variable ope done.\"\n",
            "[1] \" Variable con done.\"\n",
            "[1] \" Variable ext done.\"\n",
            "[1] \" Variable agr done.\"\n",
            "[1] \" Variable neu done.\"\n",
            "[1] \"Cross-validated predictions, fold: 5\"\n",
            "[1] \" Variable gender done.\"\n",
            "[1] \" Variable age done.\"\n",
            "[1] \" Variable political done.\"\n",
            "[1] \" Variable ope done.\"\n",
            "[1] \" Variable con done.\"\n",
            "[1] \" Variable ext done.\"\n",
            "[1] \" Variable agr done.\"\n",
            "[1] \" Variable neu done.\"\n",
            "[1] \"Cross-validated predictions, fold: 6\"\n",
            "[1] \" Variable gender done.\"\n",
            "[1] \" Variable age done.\"\n",
            "[1] \" Variable political done.\"\n",
            "[1] \" Variable ope done.\"\n",
            "[1] \" Variable con done.\"\n",
            "[1] \" Variable ext done.\"\n",
            "[1] \" Variable agr done.\"\n",
            "[1] \" Variable neu done.\"\n",
            "[1] \"Cross-validated predictions, fold: 7\"\n",
            "[1] \" Variable gender done.\"\n",
            "[1] \" Variable age done.\"\n",
            "[1] \" Variable political done.\"\n",
            "[1] \" Variable ope done.\"\n",
            "[1] \" Variable con done.\"\n",
            "[1] \" Variable ext done.\"\n",
            "[1] \" Variable agr done.\"\n",
            "[1] \" Variable neu done.\"\n",
            "[1] \"Cross-validated predictions, fold: 8\"\n",
            "[1] \" Variable gender done.\"\n",
            "[1] \" Variable age done.\"\n",
            "[1] \" Variable political done.\"\n",
            "[1] \" Variable ope done.\"\n",
            "[1] \" Variable con done.\"\n",
            "[1] \" Variable ext done.\"\n",
            "[1] \" Variable agr done.\"\n",
            "[1] \" Variable neu done.\"\n",
            "[1] \"Cross-validated predictions, fold: 9\"\n",
            "[1] \" Variable gender done.\"\n",
            "[1] \" Variable age done.\"\n",
            "[1] \" Variable political done.\"\n",
            "[1] \" Variable ope done.\"\n",
            "[1] \" Variable con done.\"\n",
            "[1] \" Variable ext done.\"\n",
            "[1] \" Variable agr done.\"\n",
            "[1] \" Variable neu done.\"\n",
            "[1] \"Cross-validated predictions, fold: 10\"\n",
            "[1] \" Variable gender done.\"\n",
            "[1] \" Variable age done.\"\n",
            "[1] \" Variable political done.\"\n",
            "[1] \" Variable ope done.\"\n",
            "[1] \" Variable con done.\"\n",
            "[1] \" Variable ext done.\"\n",
            "[1] \" Variable agr done.\"\n",
            "[1] \" Variable neu done.\"\n",
            "[1] 15\n",
            "[1] \"Cross-validated predictions, fold: 1\"\n",
            "[1] \" Variable gender done.\"\n",
            "[1] \" Variable age done.\"\n",
            "[1] \" Variable political done.\"\n",
            "[1] \" Variable ope done.\"\n",
            "[1] \" Variable con done.\"\n",
            "[1] \" Variable ext done.\"\n",
            "[1] \" Variable agr done.\"\n",
            "[1] \" Variable neu done.\"\n",
            "[1] \"Cross-validated predictions, fold: 2\"\n",
            "[1] \" Variable gender done.\"\n",
            "[1] \" Variable age done.\"\n",
            "[1] \" Variable political done.\"\n",
            "[1] \" Variable ope done.\"\n",
            "[1] \" Variable con done.\"\n",
            "[1] \" Variable ext done.\"\n",
            "[1] \" Variable agr done.\"\n",
            "[1] \" Variable neu done.\"\n",
            "[1] \"Cross-validated predictions, fold: 3\"\n",
            "[1] \" Variable gender done.\"\n",
            "[1] \" Variable age done.\"\n",
            "[1] \" Variable political done.\"\n",
            "[1] \" Variable ope done.\"\n",
            "[1] \" Variable con done.\"\n",
            "[1] \" Variable ext done.\"\n",
            "[1] \" Variable agr done.\"\n",
            "[1] \" Variable neu done.\"\n",
            "[1] \"Cross-validated predictions, fold: 4\"\n",
            "[1] \" Variable gender done.\"\n",
            "[1] \" Variable age done.\"\n",
            "[1] \" Variable political done.\"\n",
            "[1] \" Variable ope done.\"\n",
            "[1] \" Variable con done.\"\n",
            "[1] \" Variable ext done.\"\n",
            "[1] \" Variable agr done.\"\n",
            "[1] \" Variable neu done.\"\n",
            "[1] \"Cross-validated predictions, fold: 5\"\n",
            "[1] \" Variable gender done.\"\n",
            "[1] \" Variable age done.\"\n",
            "[1] \" Variable political done.\"\n",
            "[1] \" Variable ope done.\"\n",
            "[1] \" Variable con done.\"\n",
            "[1] \" Variable ext done.\"\n",
            "[1] \" Variable agr done.\"\n",
            "[1] \" Variable neu done.\"\n",
            "[1] \"Cross-validated predictions, fold: 6\"\n",
            "[1] \" Variable gender done.\"\n",
            "[1] \" Variable age done.\"\n",
            "[1] \" Variable political done.\"\n",
            "[1] \" Variable ope done.\"\n",
            "[1] \" Variable con done.\"\n",
            "[1] \" Variable ext done.\"\n",
            "[1] \" Variable agr done.\"\n",
            "[1] \" Variable neu done.\"\n",
            "[1] \"Cross-validated predictions, fold: 7\"\n",
            "[1] \" Variable gender done.\"\n",
            "[1] \" Variable age done.\"\n",
            "[1] \" Variable political done.\"\n",
            "[1] \" Variable ope done.\"\n",
            "[1] \" Variable con done.\"\n",
            "[1] \" Variable ext done.\"\n",
            "[1] \" Variable agr done.\"\n",
            "[1] \" Variable neu done.\"\n",
            "[1] \"Cross-validated predictions, fold: 8\"\n",
            "[1] \" Variable gender done.\"\n",
            "[1] \" Variable age done.\"\n",
            "[1] \" Variable political done.\"\n",
            "[1] \" Variable ope done.\"\n",
            "[1] \" Variable con done.\"\n",
            "[1] \" Variable ext done.\"\n",
            "[1] \" Variable agr done.\"\n",
            "[1] \" Variable neu done.\"\n",
            "[1] \"Cross-validated predictions, fold: 9\"\n",
            "[1] \" Variable gender done.\"\n",
            "[1] \" Variable age done.\"\n",
            "[1] \" Variable political done.\"\n",
            "[1] \" Variable ope done.\"\n",
            "[1] \" Variable con done.\"\n",
            "[1] \" Variable ext done.\"\n",
            "[1] \" Variable agr done.\"\n",
            "[1] \" Variable neu done.\"\n",
            "[1] \"Cross-validated predictions, fold: 10\"\n",
            "[1] \" Variable gender done.\"\n",
            "[1] \" Variable age done.\"\n",
            "[1] \" Variable political done.\"\n",
            "[1] \" Variable ope done.\"\n",
            "[1] \" Variable con done.\"\n",
            "[1] \" Variable ext done.\"\n",
            "[1] \" Variable agr done.\"\n",
            "[1] \" Variable neu done.\"\n",
            "[1] 20\n",
            "[1] \"Cross-validated predictions, fold: 1\"\n",
            "[1] \" Variable gender done.\"\n",
            "[1] \" Variable age done.\"\n",
            "[1] \" Variable political done.\"\n",
            "[1] \" Variable ope done.\"\n",
            "[1] \" Variable con done.\"\n",
            "[1] \" Variable ext done.\"\n",
            "[1] \" Variable agr done.\"\n",
            "[1] \" Variable neu done.\"\n",
            "[1] \"Cross-validated predictions, fold: 2\"\n",
            "[1] \" Variable gender done.\"\n",
            "[1] \" Variable age done.\"\n",
            "[1] \" Variable political done.\"\n",
            "[1] \" Variable ope done.\"\n",
            "[1] \" Variable con done.\"\n",
            "[1] \" Variable ext done.\"\n",
            "[1] \" Variable agr done.\"\n",
            "[1] \" Variable neu done.\"\n",
            "[1] \"Cross-validated predictions, fold: 3\"\n",
            "[1] \" Variable gender done.\"\n",
            "[1] \" Variable age done.\"\n",
            "[1] \" Variable political done.\"\n",
            "[1] \" Variable ope done.\"\n",
            "[1] \" Variable con done.\"\n",
            "[1] \" Variable ext done.\"\n",
            "[1] \" Variable agr done.\"\n",
            "[1] \" Variable neu done.\"\n",
            "[1] \"Cross-validated predictions, fold: 4\"\n",
            "[1] \" Variable gender done.\"\n",
            "[1] \" Variable age done.\"\n",
            "[1] \" Variable political done.\"\n",
            "[1] \" Variable ope done.\"\n",
            "[1] \" Variable con done.\"\n",
            "[1] \" Variable ext done.\"\n",
            "[1] \" Variable agr done.\"\n",
            "[1] \" Variable neu done.\"\n",
            "[1] \"Cross-validated predictions, fold: 5\"\n",
            "[1] \" Variable gender done.\"\n",
            "[1] \" Variable age done.\"\n",
            "[1] \" Variable political done.\"\n",
            "[1] \" Variable ope done.\"\n",
            "[1] \" Variable con done.\"\n",
            "[1] \" Variable ext done.\"\n",
            "[1] \" Variable agr done.\"\n",
            "[1] \" Variable neu done.\"\n",
            "[1] \"Cross-validated predictions, fold: 6\"\n",
            "[1] \" Variable gender done.\"\n",
            "[1] \" Variable age done.\"\n",
            "[1] \" Variable political done.\"\n",
            "[1] \" Variable ope done.\"\n",
            "[1] \" Variable con done.\"\n",
            "[1] \" Variable ext done.\"\n",
            "[1] \" Variable agr done.\"\n",
            "[1] \" Variable neu done.\"\n",
            "[1] \"Cross-validated predictions, fold: 7\"\n",
            "[1] \" Variable gender done.\"\n",
            "[1] \" Variable age done.\"\n",
            "[1] \" Variable political done.\"\n",
            "[1] \" Variable ope done.\"\n",
            "[1] \" Variable con done.\"\n",
            "[1] \" Variable ext done.\"\n",
            "[1] \" Variable agr done.\"\n",
            "[1] \" Variable neu done.\"\n",
            "[1] \"Cross-validated predictions, fold: 8\"\n",
            "[1] \" Variable gender done.\"\n",
            "[1] \" Variable age done.\"\n",
            "[1] \" Variable political done.\"\n",
            "[1] \" Variable ope done.\"\n",
            "[1] \" Variable con done.\"\n",
            "[1] \" Variable ext done.\"\n",
            "[1] \" Variable agr done.\"\n",
            "[1] \" Variable neu done.\"\n",
            "[1] \"Cross-validated predictions, fold: 9\"\n",
            "[1] \" Variable gender done.\"\n",
            "[1] \" Variable age done.\"\n",
            "[1] \" Variable political done.\"\n",
            "[1] \" Variable ope done.\"\n",
            "[1] \" Variable con done.\"\n",
            "[1] \" Variable ext done.\"\n",
            "[1] \" Variable agr done.\"\n",
            "[1] \" Variable neu done.\"\n",
            "[1] \"Cross-validated predictions, fold: 10\"\n",
            "[1] \" Variable gender done.\"\n",
            "[1] \" Variable age done.\"\n",
            "[1] \" Variable political done.\"\n",
            "[1] \" Variable ope done.\"\n",
            "[1] \" Variable con done.\"\n",
            "[1] \" Variable ext done.\"\n",
            "[1] \" Variable agr done.\"\n",
            "[1] \" Variable neu done.\"\n",
            "[1] 30\n",
            "[1] \"Cross-validated predictions, fold: 1\"\n",
            "[1] \" Variable gender done.\"\n",
            "[1] \" Variable age done.\"\n",
            "[1] \" Variable political done.\"\n",
            "[1] \" Variable ope done.\"\n",
            "[1] \" Variable con done.\"\n",
            "[1] \" Variable ext done.\"\n",
            "[1] \" Variable agr done.\"\n",
            "[1] \" Variable neu done.\"\n",
            "[1] \"Cross-validated predictions, fold: 2\"\n",
            "[1] \" Variable gender done.\"\n",
            "[1] \" Variable age done.\"\n",
            "[1] \" Variable political done.\"\n",
            "[1] \" Variable ope done.\"\n",
            "[1] \" Variable con done.\"\n",
            "[1] \" Variable ext done.\"\n",
            "[1] \" Variable agr done.\"\n",
            "[1] \" Variable neu done.\"\n",
            "[1] \"Cross-validated predictions, fold: 3\"\n",
            "[1] \" Variable gender done.\"\n",
            "[1] \" Variable age done.\"\n",
            "[1] \" Variable political done.\"\n",
            "[1] \" Variable ope done.\"\n",
            "[1] \" Variable con done.\"\n",
            "[1] \" Variable ext done.\"\n",
            "[1] \" Variable agr done.\"\n",
            "[1] \" Variable neu done.\"\n",
            "[1] \"Cross-validated predictions, fold: 4\"\n",
            "[1] \" Variable gender done.\"\n",
            "[1] \" Variable age done.\"\n",
            "[1] \" Variable political done.\"\n",
            "[1] \" Variable ope done.\"\n",
            "[1] \" Variable con done.\"\n",
            "[1] \" Variable ext done.\"\n",
            "[1] \" Variable agr done.\"\n",
            "[1] \" Variable neu done.\"\n",
            "[1] \"Cross-validated predictions, fold: 5\"\n",
            "[1] \" Variable gender done.\"\n",
            "[1] \" Variable age done.\"\n",
            "[1] \" Variable political done.\"\n",
            "[1] \" Variable ope done.\"\n",
            "[1] \" Variable con done.\"\n",
            "[1] \" Variable ext done.\"\n",
            "[1] \" Variable agr done.\"\n",
            "[1] \" Variable neu done.\"\n",
            "[1] \"Cross-validated predictions, fold: 6\"\n",
            "[1] \" Variable gender done.\"\n",
            "[1] \" Variable age done.\"\n",
            "[1] \" Variable political done.\"\n",
            "[1] \" Variable ope done.\"\n",
            "[1] \" Variable con done.\"\n",
            "[1] \" Variable ext done.\"\n",
            "[1] \" Variable agr done.\"\n",
            "[1] \" Variable neu done.\"\n",
            "[1] \"Cross-validated predictions, fold: 7\"\n",
            "[1] \" Variable gender done.\"\n",
            "[1] \" Variable age done.\"\n",
            "[1] \" Variable political done.\"\n",
            "[1] \" Variable ope done.\"\n",
            "[1] \" Variable con done.\"\n",
            "[1] \" Variable ext done.\"\n",
            "[1] \" Variable agr done.\"\n",
            "[1] \" Variable neu done.\"\n",
            "[1] \"Cross-validated predictions, fold: 8\"\n",
            "[1] \" Variable gender done.\"\n",
            "[1] \" Variable age done.\"\n",
            "[1] \" Variable political done.\"\n",
            "[1] \" Variable ope done.\"\n",
            "[1] \" Variable con done.\"\n",
            "[1] \" Variable ext done.\"\n",
            "[1] \" Variable agr done.\"\n",
            "[1] \" Variable neu done.\"\n",
            "[1] \"Cross-validated predictions, fold: 9\"\n",
            "[1] \" Variable gender done.\"\n",
            "[1] \" Variable age done.\"\n",
            "[1] \" Variable political done.\"\n",
            "[1] \" Variable ope done.\"\n",
            "[1] \" Variable con done.\"\n",
            "[1] \" Variable ext done.\"\n",
            "[1] \" Variable agr done.\"\n",
            "[1] \" Variable neu done.\"\n",
            "[1] \"Cross-validated predictions, fold: 10\"\n",
            "[1] \" Variable gender done.\"\n",
            "[1] \" Variable age done.\"\n",
            "[1] \" Variable political done.\"\n",
            "[1] \" Variable ope done.\"\n",
            "[1] \" Variable con done.\"\n",
            "[1] \" Variable ext done.\"\n",
            "[1] \" Variable agr done.\"\n",
            "[1] \" Variable neu done.\"\n",
            "[1] 40\n",
            "[1] \"Cross-validated predictions, fold: 1\"\n"
          ]
        },
        {
          "output_type": "stream",
          "name": "stderr",
          "text": [
            "Warning message:\n",
            "“glm.fit: fitted probabilities numerically 0 or 1 occurred”\n"
          ]
        },
        {
          "output_type": "stream",
          "name": "stdout",
          "text": [
            "[1] \" Variable gender done.\"\n",
            "[1] \" Variable age done.\"\n",
            "[1] \" Variable political done.\"\n",
            "[1] \" Variable ope done.\"\n",
            "[1] \" Variable con done.\"\n",
            "[1] \" Variable ext done.\"\n",
            "[1] \" Variable agr done.\"\n",
            "[1] \" Variable neu done.\"\n",
            "[1] \"Cross-validated predictions, fold: 2\"\n",
            "[1] \" Variable gender done.\"\n",
            "[1] \" Variable age done.\"\n",
            "[1] \" Variable political done.\"\n",
            "[1] \" Variable ope done.\"\n",
            "[1] \" Variable con done.\"\n",
            "[1] \" Variable ext done.\"\n",
            "[1] \" Variable agr done.\"\n",
            "[1] \" Variable neu done.\"\n",
            "[1] \"Cross-validated predictions, fold: 3\"\n",
            "[1] \" Variable gender done.\"\n",
            "[1] \" Variable age done.\"\n",
            "[1] \" Variable political done.\"\n",
            "[1] \" Variable ope done.\"\n",
            "[1] \" Variable con done.\"\n",
            "[1] \" Variable ext done.\"\n",
            "[1] \" Variable agr done.\"\n",
            "[1] \" Variable neu done.\"\n",
            "[1] \"Cross-validated predictions, fold: 4\"\n",
            "[1] \" Variable gender done.\"\n",
            "[1] \" Variable age done.\"\n",
            "[1] \" Variable political done.\"\n",
            "[1] \" Variable ope done.\"\n",
            "[1] \" Variable con done.\"\n",
            "[1] \" Variable ext done.\"\n",
            "[1] \" Variable agr done.\"\n",
            "[1] \" Variable neu done.\"\n",
            "[1] \"Cross-validated predictions, fold: 5\"\n",
            "[1] \" Variable gender done.\"\n",
            "[1] \" Variable age done.\"\n",
            "[1] \" Variable political done.\"\n",
            "[1] \" Variable ope done.\"\n",
            "[1] \" Variable con done.\"\n",
            "[1] \" Variable ext done.\"\n",
            "[1] \" Variable agr done.\"\n",
            "[1] \" Variable neu done.\"\n",
            "[1] \"Cross-validated predictions, fold: 6\"\n",
            "[1] \" Variable gender done.\"\n",
            "[1] \" Variable age done.\"\n",
            "[1] \" Variable political done.\"\n",
            "[1] \" Variable ope done.\"\n",
            "[1] \" Variable con done.\"\n",
            "[1] \" Variable ext done.\"\n",
            "[1] \" Variable agr done.\"\n",
            "[1] \" Variable neu done.\"\n",
            "[1] \"Cross-validated predictions, fold: 7\"\n"
          ]
        },
        {
          "output_type": "stream",
          "name": "stderr",
          "text": [
            "Warning message:\n",
            "“glm.fit: fitted probabilities numerically 0 or 1 occurred”\n"
          ]
        },
        {
          "output_type": "stream",
          "name": "stdout",
          "text": [
            "[1] \" Variable gender done.\"\n",
            "[1] \" Variable age done.\"\n",
            "[1] \" Variable political done.\"\n",
            "[1] \" Variable ope done.\"\n",
            "[1] \" Variable con done.\"\n",
            "[1] \" Variable ext done.\"\n",
            "[1] \" Variable agr done.\"\n",
            "[1] \" Variable neu done.\"\n",
            "[1] \"Cross-validated predictions, fold: 8\"\n",
            "[1] \" Variable gender done.\"\n",
            "[1] \" Variable age done.\"\n",
            "[1] \" Variable political done.\"\n",
            "[1] \" Variable ope done.\"\n",
            "[1] \" Variable con done.\"\n",
            "[1] \" Variable ext done.\"\n",
            "[1] \" Variable agr done.\"\n",
            "[1] \" Variable neu done.\"\n",
            "[1] \"Cross-validated predictions, fold: 9\"\n"
          ]
        },
        {
          "output_type": "stream",
          "name": "stderr",
          "text": [
            "Warning message:\n",
            "“glm.fit: fitted probabilities numerically 0 or 1 occurred”\n"
          ]
        },
        {
          "output_type": "stream",
          "name": "stdout",
          "text": [
            "[1] \" Variable gender done.\"\n",
            "[1] \" Variable age done.\"\n",
            "[1] \" Variable political done.\"\n",
            "[1] \" Variable ope done.\"\n",
            "[1] \" Variable con done.\"\n",
            "[1] \" Variable ext done.\"\n",
            "[1] \" Variable agr done.\"\n",
            "[1] \" Variable neu done.\"\n",
            "[1] \"Cross-validated predictions, fold: 10\"\n"
          ]
        },
        {
          "output_type": "stream",
          "name": "stderr",
          "text": [
            "Warning message:\n",
            "“glm.fit: fitted probabilities numerically 0 or 1 occurred”\n"
          ]
        },
        {
          "output_type": "stream",
          "name": "stdout",
          "text": [
            "[1] \" Variable gender done.\"\n",
            "[1] \" Variable age done.\"\n",
            "[1] \" Variable political done.\"\n",
            "[1] \" Variable ope done.\"\n",
            "[1] \" Variable con done.\"\n",
            "[1] \" Variable ext done.\"\n",
            "[1] \" Variable agr done.\"\n",
            "[1] \" Variable neu done.\"\n",
            "[1] 50\n",
            "[1] \"Cross-validated predictions, fold: 1\"\n"
          ]
        },
        {
          "output_type": "stream",
          "name": "stderr",
          "text": [
            "Warning message:\n",
            "“glm.fit: fitted probabilities numerically 0 or 1 occurred”\n"
          ]
        },
        {
          "output_type": "stream",
          "name": "stdout",
          "text": [
            "[1] \" Variable gender done.\"\n",
            "[1] \" Variable age done.\"\n",
            "[1] \" Variable political done.\"\n",
            "[1] \" Variable ope done.\"\n",
            "[1] \" Variable con done.\"\n",
            "[1] \" Variable ext done.\"\n",
            "[1] \" Variable agr done.\"\n",
            "[1] \" Variable neu done.\"\n",
            "[1] \"Cross-validated predictions, fold: 2\"\n"
          ]
        },
        {
          "output_type": "stream",
          "name": "stderr",
          "text": [
            "Warning message:\n",
            "“glm.fit: fitted probabilities numerically 0 or 1 occurred”\n"
          ]
        },
        {
          "output_type": "stream",
          "name": "stdout",
          "text": [
            "[1] \" Variable gender done.\"\n",
            "[1] \" Variable age done.\"\n",
            "[1] \" Variable political done.\"\n",
            "[1] \" Variable ope done.\"\n",
            "[1] \" Variable con done.\"\n",
            "[1] \" Variable ext done.\"\n",
            "[1] \" Variable agr done.\"\n",
            "[1] \" Variable neu done.\"\n",
            "[1] \"Cross-validated predictions, fold: 3\"\n"
          ]
        },
        {
          "output_type": "stream",
          "name": "stderr",
          "text": [
            "Warning message:\n",
            "“glm.fit: fitted probabilities numerically 0 or 1 occurred”\n"
          ]
        },
        {
          "output_type": "stream",
          "name": "stdout",
          "text": [
            "[1] \" Variable gender done.\"\n",
            "[1] \" Variable age done.\"\n",
            "[1] \" Variable political done.\"\n",
            "[1] \" Variable ope done.\"\n",
            "[1] \" Variable con done.\"\n",
            "[1] \" Variable ext done.\"\n",
            "[1] \" Variable agr done.\"\n",
            "[1] \" Variable neu done.\"\n",
            "[1] \"Cross-validated predictions, fold: 4\"\n"
          ]
        },
        {
          "output_type": "stream",
          "name": "stderr",
          "text": [
            "Warning message:\n",
            "“glm.fit: fitted probabilities numerically 0 or 1 occurred”\n"
          ]
        },
        {
          "output_type": "stream",
          "name": "stdout",
          "text": [
            "[1] \" Variable gender done.\"\n",
            "[1] \" Variable age done.\"\n",
            "[1] \" Variable political done.\"\n",
            "[1] \" Variable ope done.\"\n",
            "[1] \" Variable con done.\"\n",
            "[1] \" Variable ext done.\"\n",
            "[1] \" Variable agr done.\"\n",
            "[1] \" Variable neu done.\"\n",
            "[1] \"Cross-validated predictions, fold: 5\"\n"
          ]
        },
        {
          "output_type": "stream",
          "name": "stderr",
          "text": [
            "Warning message:\n",
            "“glm.fit: fitted probabilities numerically 0 or 1 occurred”\n"
          ]
        },
        {
          "output_type": "stream",
          "name": "stdout",
          "text": [
            "[1] \" Variable gender done.\"\n",
            "[1] \" Variable age done.\"\n",
            "[1] \" Variable political done.\"\n",
            "[1] \" Variable ope done.\"\n",
            "[1] \" Variable con done.\"\n",
            "[1] \" Variable ext done.\"\n",
            "[1] \" Variable agr done.\"\n",
            "[1] \" Variable neu done.\"\n",
            "[1] \"Cross-validated predictions, fold: 6\"\n"
          ]
        },
        {
          "output_type": "stream",
          "name": "stderr",
          "text": [
            "Warning message:\n",
            "“glm.fit: fitted probabilities numerically 0 or 1 occurred”\n"
          ]
        },
        {
          "output_type": "stream",
          "name": "stdout",
          "text": [
            "[1] \" Variable gender done.\"\n",
            "[1] \" Variable age done.\"\n",
            "[1] \" Variable political done.\"\n",
            "[1] \" Variable ope done.\"\n",
            "[1] \" Variable con done.\"\n",
            "[1] \" Variable ext done.\"\n",
            "[1] \" Variable agr done.\"\n",
            "[1] \" Variable neu done.\"\n",
            "[1] \"Cross-validated predictions, fold: 7\"\n"
          ]
        },
        {
          "output_type": "stream",
          "name": "stderr",
          "text": [
            "Warning message:\n",
            "“glm.fit: fitted probabilities numerically 0 or 1 occurred”\n"
          ]
        },
        {
          "output_type": "stream",
          "name": "stdout",
          "text": [
            "[1] \" Variable gender done.\"\n",
            "[1] \" Variable age done.\"\n",
            "[1] \" Variable political done.\"\n",
            "[1] \" Variable ope done.\"\n",
            "[1] \" Variable con done.\"\n",
            "[1] \" Variable ext done.\"\n",
            "[1] \" Variable agr done.\"\n",
            "[1] \" Variable neu done.\"\n",
            "[1] \"Cross-validated predictions, fold: 8\"\n"
          ]
        },
        {
          "output_type": "stream",
          "name": "stderr",
          "text": [
            "Warning message:\n",
            "“glm.fit: fitted probabilities numerically 0 or 1 occurred”\n"
          ]
        },
        {
          "output_type": "stream",
          "name": "stdout",
          "text": [
            "[1] \" Variable gender done.\"\n",
            "[1] \" Variable age done.\"\n",
            "[1] \" Variable political done.\"\n",
            "[1] \" Variable ope done.\"\n",
            "[1] \" Variable con done.\"\n",
            "[1] \" Variable ext done.\"\n",
            "[1] \" Variable agr done.\"\n",
            "[1] \" Variable neu done.\"\n",
            "[1] \"Cross-validated predictions, fold: 9\"\n"
          ]
        },
        {
          "output_type": "stream",
          "name": "stderr",
          "text": [
            "Warning message:\n",
            "“glm.fit: fitted probabilities numerically 0 or 1 occurred”\n"
          ]
        },
        {
          "output_type": "stream",
          "name": "stdout",
          "text": [
            "[1] \" Variable gender done.\"\n",
            "[1] \" Variable age done.\"\n",
            "[1] \" Variable political done.\"\n",
            "[1] \" Variable ope done.\"\n",
            "[1] \" Variable con done.\"\n",
            "[1] \" Variable ext done.\"\n",
            "[1] \" Variable agr done.\"\n",
            "[1] \" Variable neu done.\"\n",
            "[1] \"Cross-validated predictions, fold: 10\"\n"
          ]
        },
        {
          "output_type": "stream",
          "name": "stderr",
          "text": [
            "Warning message:\n",
            "“glm.fit: fitted probabilities numerically 0 or 1 occurred”\n"
          ]
        },
        {
          "output_type": "stream",
          "name": "stdout",
          "text": [
            "[1] \" Variable gender done.\"\n",
            "[1] \" Variable age done.\"\n",
            "[1] \" Variable political done.\"\n",
            "[1] \" Variable ope done.\"\n",
            "[1] \" Variable con done.\"\n",
            "[1] \" Variable ext done.\"\n",
            "[1] \" Variable agr done.\"\n",
            "[1] \" Variable neu done.\"\n",
            "[1] 60\n",
            "[1] \"Cross-validated predictions, fold: 1\"\n"
          ]
        },
        {
          "output_type": "stream",
          "name": "stderr",
          "text": [
            "Warning message:\n",
            "“glm.fit: fitted probabilities numerically 0 or 1 occurred”\n"
          ]
        },
        {
          "output_type": "stream",
          "name": "stdout",
          "text": [
            "[1] \" Variable gender done.\"\n",
            "[1] \" Variable age done.\"\n",
            "[1] \" Variable political done.\"\n",
            "[1] \" Variable ope done.\"\n",
            "[1] \" Variable con done.\"\n",
            "[1] \" Variable ext done.\"\n",
            "[1] \" Variable agr done.\"\n",
            "[1] \" Variable neu done.\"\n",
            "[1] \"Cross-validated predictions, fold: 2\"\n"
          ]
        },
        {
          "output_type": "stream",
          "name": "stderr",
          "text": [
            "Warning message:\n",
            "“glm.fit: fitted probabilities numerically 0 or 1 occurred”\n"
          ]
        },
        {
          "output_type": "stream",
          "name": "stdout",
          "text": [
            "[1] \" Variable gender done.\"\n",
            "[1] \" Variable age done.\"\n",
            "[1] \" Variable political done.\"\n",
            "[1] \" Variable ope done.\"\n",
            "[1] \" Variable con done.\"\n",
            "[1] \" Variable ext done.\"\n",
            "[1] \" Variable agr done.\"\n",
            "[1] \" Variable neu done.\"\n",
            "[1] \"Cross-validated predictions, fold: 3\"\n"
          ]
        },
        {
          "output_type": "stream",
          "name": "stderr",
          "text": [
            "Warning message:\n",
            "“glm.fit: fitted probabilities numerically 0 or 1 occurred”\n"
          ]
        },
        {
          "output_type": "stream",
          "name": "stdout",
          "text": [
            "[1] \" Variable gender done.\"\n",
            "[1] \" Variable age done.\"\n",
            "[1] \" Variable political done.\"\n",
            "[1] \" Variable ope done.\"\n",
            "[1] \" Variable con done.\"\n",
            "[1] \" Variable ext done.\"\n",
            "[1] \" Variable agr done.\"\n",
            "[1] \" Variable neu done.\"\n",
            "[1] \"Cross-validated predictions, fold: 4\"\n"
          ]
        },
        {
          "output_type": "stream",
          "name": "stderr",
          "text": [
            "Warning message:\n",
            "“glm.fit: fitted probabilities numerically 0 or 1 occurred”\n"
          ]
        },
        {
          "output_type": "stream",
          "name": "stdout",
          "text": [
            "[1] \" Variable gender done.\"\n",
            "[1] \" Variable age done.\"\n",
            "[1] \" Variable political done.\"\n",
            "[1] \" Variable ope done.\"\n",
            "[1] \" Variable con done.\"\n",
            "[1] \" Variable ext done.\"\n",
            "[1] \" Variable agr done.\"\n",
            "[1] \" Variable neu done.\"\n",
            "[1] \"Cross-validated predictions, fold: 5\"\n"
          ]
        },
        {
          "output_type": "stream",
          "name": "stderr",
          "text": [
            "Warning message:\n",
            "“glm.fit: fitted probabilities numerically 0 or 1 occurred”\n"
          ]
        },
        {
          "output_type": "stream",
          "name": "stdout",
          "text": [
            "[1] \" Variable gender done.\"\n",
            "[1] \" Variable age done.\"\n",
            "[1] \" Variable political done.\"\n",
            "[1] \" Variable ope done.\"\n",
            "[1] \" Variable con done.\"\n",
            "[1] \" Variable ext done.\"\n",
            "[1] \" Variable agr done.\"\n",
            "[1] \" Variable neu done.\"\n",
            "[1] \"Cross-validated predictions, fold: 6\"\n"
          ]
        },
        {
          "output_type": "stream",
          "name": "stderr",
          "text": [
            "Warning message:\n",
            "“glm.fit: fitted probabilities numerically 0 or 1 occurred”\n"
          ]
        },
        {
          "output_type": "stream",
          "name": "stdout",
          "text": [
            "[1] \" Variable gender done.\"\n",
            "[1] \" Variable age done.\"\n",
            "[1] \" Variable political done.\"\n",
            "[1] \" Variable ope done.\"\n",
            "[1] \" Variable con done.\"\n",
            "[1] \" Variable ext done.\"\n",
            "[1] \" Variable agr done.\"\n",
            "[1] \" Variable neu done.\"\n",
            "[1] \"Cross-validated predictions, fold: 7\"\n"
          ]
        },
        {
          "output_type": "stream",
          "name": "stderr",
          "text": [
            "Warning message:\n",
            "“glm.fit: fitted probabilities numerically 0 or 1 occurred”\n"
          ]
        },
        {
          "output_type": "stream",
          "name": "stdout",
          "text": [
            "[1] \" Variable gender done.\"\n",
            "[1] \" Variable age done.\"\n",
            "[1] \" Variable political done.\"\n",
            "[1] \" Variable ope done.\"\n",
            "[1] \" Variable con done.\"\n",
            "[1] \" Variable ext done.\"\n",
            "[1] \" Variable agr done.\"\n",
            "[1] \" Variable neu done.\"\n",
            "[1] \"Cross-validated predictions, fold: 8\"\n"
          ]
        },
        {
          "output_type": "stream",
          "name": "stderr",
          "text": [
            "Warning message:\n",
            "“glm.fit: fitted probabilities numerically 0 or 1 occurred”\n"
          ]
        },
        {
          "output_type": "stream",
          "name": "stdout",
          "text": [
            "[1] \" Variable gender done.\"\n",
            "[1] \" Variable age done.\"\n",
            "[1] \" Variable political done.\"\n",
            "[1] \" Variable ope done.\"\n",
            "[1] \" Variable con done.\"\n",
            "[1] \" Variable ext done.\"\n",
            "[1] \" Variable agr done.\"\n",
            "[1] \" Variable neu done.\"\n",
            "[1] \"Cross-validated predictions, fold: 9\"\n"
          ]
        },
        {
          "output_type": "stream",
          "name": "stderr",
          "text": [
            "Warning message:\n",
            "“glm.fit: fitted probabilities numerically 0 or 1 occurred”\n"
          ]
        },
        {
          "output_type": "stream",
          "name": "stdout",
          "text": [
            "[1] \" Variable gender done.\"\n",
            "[1] \" Variable age done.\"\n",
            "[1] \" Variable political done.\"\n",
            "[1] \" Variable ope done.\"\n",
            "[1] \" Variable con done.\"\n",
            "[1] \" Variable ext done.\"\n",
            "[1] \" Variable agr done.\"\n",
            "[1] \" Variable neu done.\"\n",
            "[1] \"Cross-validated predictions, fold: 10\"\n"
          ]
        },
        {
          "output_type": "stream",
          "name": "stderr",
          "text": [
            "Warning message:\n",
            "“glm.fit: fitted probabilities numerically 0 or 1 occurred”\n"
          ]
        },
        {
          "output_type": "stream",
          "name": "stdout",
          "text": [
            "[1] \" Variable gender done.\"\n",
            "[1] \" Variable age done.\"\n",
            "[1] \" Variable political done.\"\n",
            "[1] \" Variable ope done.\"\n",
            "[1] \" Variable con done.\"\n",
            "[1] \" Variable ext done.\"\n",
            "[1] \" Variable agr done.\"\n",
            "[1] \" Variable neu done.\"\n",
            "[1] 70\n",
            "[1] \"Cross-validated predictions, fold: 1\"\n"
          ]
        },
        {
          "output_type": "stream",
          "name": "stderr",
          "text": [
            "Warning message:\n",
            "“glm.fit: fitted probabilities numerically 0 or 1 occurred”\n"
          ]
        },
        {
          "output_type": "stream",
          "name": "stdout",
          "text": [
            "[1] \" Variable gender done.\"\n",
            "[1] \" Variable age done.\"\n",
            "[1] \" Variable political done.\"\n",
            "[1] \" Variable ope done.\"\n",
            "[1] \" Variable con done.\"\n",
            "[1] \" Variable ext done.\"\n",
            "[1] \" Variable agr done.\"\n",
            "[1] \" Variable neu done.\"\n",
            "[1] \"Cross-validated predictions, fold: 2\"\n"
          ]
        },
        {
          "output_type": "stream",
          "name": "stderr",
          "text": [
            "Warning message:\n",
            "“glm.fit: fitted probabilities numerically 0 or 1 occurred”\n"
          ]
        },
        {
          "output_type": "stream",
          "name": "stdout",
          "text": [
            "[1] \" Variable gender done.\"\n",
            "[1] \" Variable age done.\"\n",
            "[1] \" Variable political done.\"\n",
            "[1] \" Variable ope done.\"\n",
            "[1] \" Variable con done.\"\n",
            "[1] \" Variable ext done.\"\n",
            "[1] \" Variable agr done.\"\n",
            "[1] \" Variable neu done.\"\n",
            "[1] \"Cross-validated predictions, fold: 3\"\n"
          ]
        },
        {
          "output_type": "stream",
          "name": "stderr",
          "text": [
            "Warning message:\n",
            "“glm.fit: fitted probabilities numerically 0 or 1 occurred”\n"
          ]
        },
        {
          "output_type": "stream",
          "name": "stdout",
          "text": [
            "[1] \" Variable gender done.\"\n",
            "[1] \" Variable age done.\"\n",
            "[1] \" Variable political done.\"\n",
            "[1] \" Variable ope done.\"\n",
            "[1] \" Variable con done.\"\n",
            "[1] \" Variable ext done.\"\n",
            "[1] \" Variable agr done.\"\n",
            "[1] \" Variable neu done.\"\n",
            "[1] \"Cross-validated predictions, fold: 4\"\n"
          ]
        },
        {
          "output_type": "stream",
          "name": "stderr",
          "text": [
            "Warning message:\n",
            "“glm.fit: fitted probabilities numerically 0 or 1 occurred”\n"
          ]
        },
        {
          "output_type": "stream",
          "name": "stdout",
          "text": [
            "[1] \" Variable gender done.\"\n",
            "[1] \" Variable age done.\"\n",
            "[1] \" Variable political done.\"\n",
            "[1] \" Variable ope done.\"\n",
            "[1] \" Variable con done.\"\n",
            "[1] \" Variable ext done.\"\n",
            "[1] \" Variable agr done.\"\n",
            "[1] \" Variable neu done.\"\n",
            "[1] \"Cross-validated predictions, fold: 5\"\n"
          ]
        },
        {
          "output_type": "stream",
          "name": "stderr",
          "text": [
            "Warning message:\n",
            "“glm.fit: fitted probabilities numerically 0 or 1 occurred”\n"
          ]
        },
        {
          "output_type": "stream",
          "name": "stdout",
          "text": [
            "[1] \" Variable gender done.\"\n",
            "[1] \" Variable age done.\"\n",
            "[1] \" Variable political done.\"\n",
            "[1] \" Variable ope done.\"\n",
            "[1] \" Variable con done.\"\n",
            "[1] \" Variable ext done.\"\n",
            "[1] \" Variable agr done.\"\n",
            "[1] \" Variable neu done.\"\n",
            "[1] \"Cross-validated predictions, fold: 6\"\n"
          ]
        },
        {
          "output_type": "stream",
          "name": "stderr",
          "text": [
            "Warning message:\n",
            "“glm.fit: fitted probabilities numerically 0 or 1 occurred”\n"
          ]
        },
        {
          "output_type": "stream",
          "name": "stdout",
          "text": [
            "[1] \" Variable gender done.\"\n",
            "[1] \" Variable age done.\"\n",
            "[1] \" Variable political done.\"\n",
            "[1] \" Variable ope done.\"\n",
            "[1] \" Variable con done.\"\n",
            "[1] \" Variable ext done.\"\n",
            "[1] \" Variable agr done.\"\n",
            "[1] \" Variable neu done.\"\n",
            "[1] \"Cross-validated predictions, fold: 7\"\n"
          ]
        },
        {
          "output_type": "stream",
          "name": "stderr",
          "text": [
            "Warning message:\n",
            "“glm.fit: fitted probabilities numerically 0 or 1 occurred”\n"
          ]
        },
        {
          "output_type": "stream",
          "name": "stdout",
          "text": [
            "[1] \" Variable gender done.\"\n",
            "[1] \" Variable age done.\"\n",
            "[1] \" Variable political done.\"\n",
            "[1] \" Variable ope done.\"\n",
            "[1] \" Variable con done.\"\n",
            "[1] \" Variable ext done.\"\n",
            "[1] \" Variable agr done.\"\n",
            "[1] \" Variable neu done.\"\n",
            "[1] \"Cross-validated predictions, fold: 8\"\n"
          ]
        },
        {
          "output_type": "stream",
          "name": "stderr",
          "text": [
            "Warning message:\n",
            "“glm.fit: fitted probabilities numerically 0 or 1 occurred”\n"
          ]
        },
        {
          "output_type": "stream",
          "name": "stdout",
          "text": [
            "[1] \" Variable gender done.\"\n",
            "[1] \" Variable age done.\"\n",
            "[1] \" Variable political done.\"\n",
            "[1] \" Variable ope done.\"\n",
            "[1] \" Variable con done.\"\n",
            "[1] \" Variable ext done.\"\n",
            "[1] \" Variable agr done.\"\n",
            "[1] \" Variable neu done.\"\n",
            "[1] \"Cross-validated predictions, fold: 9\"\n"
          ]
        },
        {
          "output_type": "stream",
          "name": "stderr",
          "text": [
            "Warning message:\n",
            "“glm.fit: fitted probabilities numerically 0 or 1 occurred”\n"
          ]
        },
        {
          "output_type": "stream",
          "name": "stdout",
          "text": [
            "[1] \" Variable gender done.\"\n",
            "[1] \" Variable age done.\"\n",
            "[1] \" Variable political done.\"\n",
            "[1] \" Variable ope done.\"\n",
            "[1] \" Variable con done.\"\n",
            "[1] \" Variable ext done.\"\n",
            "[1] \" Variable agr done.\"\n",
            "[1] \" Variable neu done.\"\n",
            "[1] \"Cross-validated predictions, fold: 10\"\n"
          ]
        },
        {
          "output_type": "stream",
          "name": "stderr",
          "text": [
            "Warning message:\n",
            "“glm.fit: fitted probabilities numerically 0 or 1 occurred”\n"
          ]
        },
        {
          "output_type": "stream",
          "name": "stdout",
          "text": [
            "[1] \" Variable gender done.\"\n",
            "[1] \" Variable age done.\"\n",
            "[1] \" Variable political done.\"\n",
            "[1] \" Variable ope done.\"\n",
            "[1] \" Variable con done.\"\n",
            "[1] \" Variable ext done.\"\n",
            "[1] \" Variable agr done.\"\n",
            "[1] \" Variable neu done.\"\n",
            "[1] 80\n",
            "[1] \"Cross-validated predictions, fold: 1\"\n"
          ]
        },
        {
          "output_type": "stream",
          "name": "stderr",
          "text": [
            "Warning message:\n",
            "“glm.fit: fitted probabilities numerically 0 or 1 occurred”\n"
          ]
        },
        {
          "output_type": "stream",
          "name": "stdout",
          "text": [
            "[1] \" Variable gender done.\"\n",
            "[1] \" Variable age done.\"\n",
            "[1] \" Variable political done.\"\n",
            "[1] \" Variable ope done.\"\n",
            "[1] \" Variable con done.\"\n",
            "[1] \" Variable ext done.\"\n",
            "[1] \" Variable agr done.\"\n",
            "[1] \" Variable neu done.\"\n",
            "[1] \"Cross-validated predictions, fold: 2\"\n"
          ]
        },
        {
          "output_type": "stream",
          "name": "stderr",
          "text": [
            "Warning message:\n",
            "“glm.fit: fitted probabilities numerically 0 or 1 occurred”\n"
          ]
        },
        {
          "output_type": "stream",
          "name": "stdout",
          "text": [
            "[1] \" Variable gender done.\"\n",
            "[1] \" Variable age done.\"\n",
            "[1] \" Variable political done.\"\n",
            "[1] \" Variable ope done.\"\n",
            "[1] \" Variable con done.\"\n",
            "[1] \" Variable ext done.\"\n",
            "[1] \" Variable agr done.\"\n",
            "[1] \" Variable neu done.\"\n",
            "[1] \"Cross-validated predictions, fold: 3\"\n"
          ]
        },
        {
          "output_type": "stream",
          "name": "stderr",
          "text": [
            "Warning message:\n",
            "“glm.fit: fitted probabilities numerically 0 or 1 occurred”\n"
          ]
        },
        {
          "output_type": "stream",
          "name": "stdout",
          "text": [
            "[1] \" Variable gender done.\"\n",
            "[1] \" Variable age done.\"\n",
            "[1] \" Variable political done.\"\n",
            "[1] \" Variable ope done.\"\n",
            "[1] \" Variable con done.\"\n",
            "[1] \" Variable ext done.\"\n",
            "[1] \" Variable agr done.\"\n",
            "[1] \" Variable neu done.\"\n",
            "[1] \"Cross-validated predictions, fold: 4\"\n"
          ]
        },
        {
          "output_type": "stream",
          "name": "stderr",
          "text": [
            "Warning message:\n",
            "“glm.fit: fitted probabilities numerically 0 or 1 occurred”\n"
          ]
        },
        {
          "output_type": "stream",
          "name": "stdout",
          "text": [
            "[1] \" Variable gender done.\"\n",
            "[1] \" Variable age done.\"\n",
            "[1] \" Variable political done.\"\n",
            "[1] \" Variable ope done.\"\n",
            "[1] \" Variable con done.\"\n",
            "[1] \" Variable ext done.\"\n",
            "[1] \" Variable agr done.\"\n",
            "[1] \" Variable neu done.\"\n",
            "[1] \"Cross-validated predictions, fold: 5\"\n"
          ]
        },
        {
          "output_type": "stream",
          "name": "stderr",
          "text": [
            "Warning message:\n",
            "“glm.fit: fitted probabilities numerically 0 or 1 occurred”\n"
          ]
        },
        {
          "output_type": "stream",
          "name": "stdout",
          "text": [
            "[1] \" Variable gender done.\"\n",
            "[1] \" Variable age done.\"\n",
            "[1] \" Variable political done.\"\n",
            "[1] \" Variable ope done.\"\n",
            "[1] \" Variable con done.\"\n",
            "[1] \" Variable ext done.\"\n",
            "[1] \" Variable agr done.\"\n",
            "[1] \" Variable neu done.\"\n",
            "[1] \"Cross-validated predictions, fold: 6\"\n"
          ]
        },
        {
          "output_type": "stream",
          "name": "stderr",
          "text": [
            "Warning message:\n",
            "“glm.fit: fitted probabilities numerically 0 or 1 occurred”\n"
          ]
        },
        {
          "output_type": "stream",
          "name": "stdout",
          "text": [
            "[1] \" Variable gender done.\"\n",
            "[1] \" Variable age done.\"\n",
            "[1] \" Variable political done.\"\n",
            "[1] \" Variable ope done.\"\n",
            "[1] \" Variable con done.\"\n",
            "[1] \" Variable ext done.\"\n",
            "[1] \" Variable agr done.\"\n",
            "[1] \" Variable neu done.\"\n",
            "[1] \"Cross-validated predictions, fold: 7\"\n"
          ]
        },
        {
          "output_type": "stream",
          "name": "stderr",
          "text": [
            "Warning message:\n",
            "“glm.fit: fitted probabilities numerically 0 or 1 occurred”\n"
          ]
        },
        {
          "output_type": "stream",
          "name": "stdout",
          "text": [
            "[1] \" Variable gender done.\"\n",
            "[1] \" Variable age done.\"\n",
            "[1] \" Variable political done.\"\n",
            "[1] \" Variable ope done.\"\n",
            "[1] \" Variable con done.\"\n",
            "[1] \" Variable ext done.\"\n",
            "[1] \" Variable agr done.\"\n",
            "[1] \" Variable neu done.\"\n",
            "[1] \"Cross-validated predictions, fold: 8\"\n"
          ]
        },
        {
          "output_type": "stream",
          "name": "stderr",
          "text": [
            "Warning message:\n",
            "“glm.fit: fitted probabilities numerically 0 or 1 occurred”\n"
          ]
        },
        {
          "output_type": "stream",
          "name": "stdout",
          "text": [
            "[1] \" Variable gender done.\"\n",
            "[1] \" Variable age done.\"\n",
            "[1] \" Variable political done.\"\n",
            "[1] \" Variable ope done.\"\n",
            "[1] \" Variable con done.\"\n",
            "[1] \" Variable ext done.\"\n",
            "[1] \" Variable agr done.\"\n",
            "[1] \" Variable neu done.\"\n",
            "[1] \"Cross-validated predictions, fold: 9\"\n"
          ]
        },
        {
          "output_type": "stream",
          "name": "stderr",
          "text": [
            "Warning message:\n",
            "“glm.fit: fitted probabilities numerically 0 or 1 occurred”\n"
          ]
        },
        {
          "output_type": "stream",
          "name": "stdout",
          "text": [
            "[1] \" Variable gender done.\"\n",
            "[1] \" Variable age done.\"\n",
            "[1] \" Variable political done.\"\n",
            "[1] \" Variable ope done.\"\n",
            "[1] \" Variable con done.\"\n",
            "[1] \" Variable ext done.\"\n",
            "[1] \" Variable agr done.\"\n",
            "[1] \" Variable neu done.\"\n",
            "[1] \"Cross-validated predictions, fold: 10\"\n"
          ]
        },
        {
          "output_type": "stream",
          "name": "stderr",
          "text": [
            "Warning message:\n",
            "“glm.fit: fitted probabilities numerically 0 or 1 occurred”\n"
          ]
        },
        {
          "output_type": "stream",
          "name": "stdout",
          "text": [
            "[1] \" Variable gender done.\"\n",
            "[1] \" Variable age done.\"\n",
            "[1] \" Variable political done.\"\n",
            "[1] \" Variable ope done.\"\n",
            "[1] \" Variable con done.\"\n",
            "[1] \" Variable ext done.\"\n",
            "[1] \" Variable agr done.\"\n",
            "[1] \" Variable neu done.\"\n",
            "[1] 90\n",
            "[1] \"Cross-validated predictions, fold: 1\"\n"
          ]
        },
        {
          "output_type": "stream",
          "name": "stderr",
          "text": [
            "Warning message:\n",
            "“glm.fit: fitted probabilities numerically 0 or 1 occurred”\n"
          ]
        },
        {
          "output_type": "stream",
          "name": "stdout",
          "text": [
            "[1] \" Variable gender done.\"\n",
            "[1] \" Variable age done.\"\n",
            "[1] \" Variable political done.\"\n",
            "[1] \" Variable ope done.\"\n",
            "[1] \" Variable con done.\"\n",
            "[1] \" Variable ext done.\"\n",
            "[1] \" Variable agr done.\"\n",
            "[1] \" Variable neu done.\"\n",
            "[1] \"Cross-validated predictions, fold: 2\"\n"
          ]
        },
        {
          "output_type": "stream",
          "name": "stderr",
          "text": [
            "Warning message:\n",
            "“glm.fit: fitted probabilities numerically 0 or 1 occurred”\n"
          ]
        },
        {
          "output_type": "stream",
          "name": "stdout",
          "text": [
            "[1] \" Variable gender done.\"\n",
            "[1] \" Variable age done.\"\n",
            "[1] \" Variable political done.\"\n",
            "[1] \" Variable ope done.\"\n",
            "[1] \" Variable con done.\"\n",
            "[1] \" Variable ext done.\"\n",
            "[1] \" Variable agr done.\"\n",
            "[1] \" Variable neu done.\"\n",
            "[1] \"Cross-validated predictions, fold: 3\"\n"
          ]
        },
        {
          "output_type": "stream",
          "name": "stderr",
          "text": [
            "Warning message:\n",
            "“glm.fit: fitted probabilities numerically 0 or 1 occurred”\n"
          ]
        },
        {
          "output_type": "stream",
          "name": "stdout",
          "text": [
            "[1] \" Variable gender done.\"\n",
            "[1] \" Variable age done.\"\n",
            "[1] \" Variable political done.\"\n",
            "[1] \" Variable ope done.\"\n",
            "[1] \" Variable con done.\"\n",
            "[1] \" Variable ext done.\"\n",
            "[1] \" Variable agr done.\"\n",
            "[1] \" Variable neu done.\"\n",
            "[1] \"Cross-validated predictions, fold: 4\"\n"
          ]
        },
        {
          "output_type": "stream",
          "name": "stderr",
          "text": [
            "Warning message:\n",
            "“glm.fit: fitted probabilities numerically 0 or 1 occurred”\n"
          ]
        },
        {
          "output_type": "stream",
          "name": "stdout",
          "text": [
            "[1] \" Variable gender done.\"\n",
            "[1] \" Variable age done.\"\n",
            "[1] \" Variable political done.\"\n",
            "[1] \" Variable ope done.\"\n",
            "[1] \" Variable con done.\"\n",
            "[1] \" Variable ext done.\"\n",
            "[1] \" Variable agr done.\"\n",
            "[1] \" Variable neu done.\"\n",
            "[1] \"Cross-validated predictions, fold: 5\"\n"
          ]
        },
        {
          "output_type": "stream",
          "name": "stderr",
          "text": [
            "Warning message:\n",
            "“glm.fit: fitted probabilities numerically 0 or 1 occurred”\n"
          ]
        },
        {
          "output_type": "stream",
          "name": "stdout",
          "text": [
            "[1] \" Variable gender done.\"\n",
            "[1] \" Variable age done.\"\n",
            "[1] \" Variable political done.\"\n",
            "[1] \" Variable ope done.\"\n",
            "[1] \" Variable con done.\"\n",
            "[1] \" Variable ext done.\"\n",
            "[1] \" Variable agr done.\"\n",
            "[1] \" Variable neu done.\"\n",
            "[1] \"Cross-validated predictions, fold: 6\"\n"
          ]
        },
        {
          "output_type": "stream",
          "name": "stderr",
          "text": [
            "Warning message:\n",
            "“glm.fit: fitted probabilities numerically 0 or 1 occurred”\n"
          ]
        },
        {
          "output_type": "stream",
          "name": "stdout",
          "text": [
            "[1] \" Variable gender done.\"\n",
            "[1] \" Variable age done.\"\n",
            "[1] \" Variable political done.\"\n",
            "[1] \" Variable ope done.\"\n",
            "[1] \" Variable con done.\"\n",
            "[1] \" Variable ext done.\"\n",
            "[1] \" Variable agr done.\"\n",
            "[1] \" Variable neu done.\"\n",
            "[1] \"Cross-validated predictions, fold: 7\"\n"
          ]
        },
        {
          "output_type": "stream",
          "name": "stderr",
          "text": [
            "Warning message:\n",
            "“glm.fit: fitted probabilities numerically 0 or 1 occurred”\n"
          ]
        },
        {
          "output_type": "stream",
          "name": "stdout",
          "text": [
            "[1] \" Variable gender done.\"\n",
            "[1] \" Variable age done.\"\n",
            "[1] \" Variable political done.\"\n",
            "[1] \" Variable ope done.\"\n",
            "[1] \" Variable con done.\"\n",
            "[1] \" Variable ext done.\"\n",
            "[1] \" Variable agr done.\"\n",
            "[1] \" Variable neu done.\"\n",
            "[1] \"Cross-validated predictions, fold: 8\"\n"
          ]
        },
        {
          "output_type": "stream",
          "name": "stderr",
          "text": [
            "Warning message:\n",
            "“glm.fit: fitted probabilities numerically 0 or 1 occurred”\n"
          ]
        },
        {
          "output_type": "stream",
          "name": "stdout",
          "text": [
            "[1] \" Variable gender done.\"\n",
            "[1] \" Variable age done.\"\n",
            "[1] \" Variable political done.\"\n",
            "[1] \" Variable ope done.\"\n",
            "[1] \" Variable con done.\"\n",
            "[1] \" Variable ext done.\"\n",
            "[1] \" Variable agr done.\"\n",
            "[1] \" Variable neu done.\"\n",
            "[1] \"Cross-validated predictions, fold: 9\"\n"
          ]
        },
        {
          "output_type": "stream",
          "name": "stderr",
          "text": [
            "Warning message:\n",
            "“glm.fit: fitted probabilities numerically 0 or 1 occurred”\n"
          ]
        },
        {
          "output_type": "stream",
          "name": "stdout",
          "text": [
            "[1] \" Variable gender done.\"\n",
            "[1] \" Variable age done.\"\n",
            "[1] \" Variable political done.\"\n",
            "[1] \" Variable ope done.\"\n",
            "[1] \" Variable con done.\"\n",
            "[1] \" Variable ext done.\"\n",
            "[1] \" Variable agr done.\"\n",
            "[1] \" Variable neu done.\"\n",
            "[1] \"Cross-validated predictions, fold: 10\"\n"
          ]
        },
        {
          "output_type": "stream",
          "name": "stderr",
          "text": [
            "Warning message:\n",
            "“glm.fit: fitted probabilities numerically 0 or 1 occurred”\n"
          ]
        },
        {
          "output_type": "stream",
          "name": "stdout",
          "text": [
            "[1] \" Variable gender done.\"\n",
            "[1] \" Variable age done.\"\n",
            "[1] \" Variable political done.\"\n",
            "[1] \" Variable ope done.\"\n",
            "[1] \" Variable con done.\"\n",
            "[1] \" Variable ext done.\"\n",
            "[1] \" Variable agr done.\"\n",
            "[1] \" Variable neu done.\"\n",
            "[1] 100\n",
            "[1] \"Cross-validated predictions, fold: 1\"\n"
          ]
        },
        {
          "output_type": "stream",
          "name": "stderr",
          "text": [
            "Warning message:\n",
            "“glm.fit: fitted probabilities numerically 0 or 1 occurred”\n"
          ]
        },
        {
          "output_type": "stream",
          "name": "stdout",
          "text": [
            "[1] \" Variable gender done.\"\n",
            "[1] \" Variable age done.\"\n",
            "[1] \" Variable political done.\"\n",
            "[1] \" Variable ope done.\"\n",
            "[1] \" Variable con done.\"\n",
            "[1] \" Variable ext done.\"\n",
            "[1] \" Variable agr done.\"\n",
            "[1] \" Variable neu done.\"\n",
            "[1] \"Cross-validated predictions, fold: 2\"\n"
          ]
        },
        {
          "output_type": "stream",
          "name": "stderr",
          "text": [
            "Warning message:\n",
            "“glm.fit: fitted probabilities numerically 0 or 1 occurred”\n"
          ]
        },
        {
          "output_type": "stream",
          "name": "stdout",
          "text": [
            "[1] \" Variable gender done.\"\n",
            "[1] \" Variable age done.\"\n",
            "[1] \" Variable political done.\"\n",
            "[1] \" Variable ope done.\"\n",
            "[1] \" Variable con done.\"\n",
            "[1] \" Variable ext done.\"\n",
            "[1] \" Variable agr done.\"\n",
            "[1] \" Variable neu done.\"\n",
            "[1] \"Cross-validated predictions, fold: 3\"\n"
          ]
        },
        {
          "output_type": "stream",
          "name": "stderr",
          "text": [
            "Warning message:\n",
            "“glm.fit: fitted probabilities numerically 0 or 1 occurred”\n"
          ]
        },
        {
          "output_type": "stream",
          "name": "stdout",
          "text": [
            "[1] \" Variable gender done.\"\n",
            "[1] \" Variable age done.\"\n",
            "[1] \" Variable political done.\"\n",
            "[1] \" Variable ope done.\"\n",
            "[1] \" Variable con done.\"\n",
            "[1] \" Variable ext done.\"\n",
            "[1] \" Variable agr done.\"\n",
            "[1] \" Variable neu done.\"\n",
            "[1] \"Cross-validated predictions, fold: 4\"\n"
          ]
        },
        {
          "output_type": "stream",
          "name": "stderr",
          "text": [
            "Warning message:\n",
            "“glm.fit: fitted probabilities numerically 0 or 1 occurred”\n"
          ]
        },
        {
          "output_type": "stream",
          "name": "stdout",
          "text": [
            "[1] \" Variable gender done.\"\n",
            "[1] \" Variable age done.\"\n",
            "[1] \" Variable political done.\"\n",
            "[1] \" Variable ope done.\"\n",
            "[1] \" Variable con done.\"\n",
            "[1] \" Variable ext done.\"\n",
            "[1] \" Variable agr done.\"\n",
            "[1] \" Variable neu done.\"\n",
            "[1] \"Cross-validated predictions, fold: 5\"\n"
          ]
        },
        {
          "output_type": "stream",
          "name": "stderr",
          "text": [
            "Warning message:\n",
            "“glm.fit: fitted probabilities numerically 0 or 1 occurred”\n"
          ]
        },
        {
          "output_type": "stream",
          "name": "stdout",
          "text": [
            "[1] \" Variable gender done.\"\n",
            "[1] \" Variable age done.\"\n",
            "[1] \" Variable political done.\"\n",
            "[1] \" Variable ope done.\"\n",
            "[1] \" Variable con done.\"\n",
            "[1] \" Variable ext done.\"\n",
            "[1] \" Variable agr done.\"\n",
            "[1] \" Variable neu done.\"\n",
            "[1] \"Cross-validated predictions, fold: 6\"\n"
          ]
        },
        {
          "output_type": "stream",
          "name": "stderr",
          "text": [
            "Warning message:\n",
            "“glm.fit: fitted probabilities numerically 0 or 1 occurred”\n"
          ]
        },
        {
          "output_type": "stream",
          "name": "stdout",
          "text": [
            "[1] \" Variable gender done.\"\n",
            "[1] \" Variable age done.\"\n",
            "[1] \" Variable political done.\"\n",
            "[1] \" Variable ope done.\"\n",
            "[1] \" Variable con done.\"\n",
            "[1] \" Variable ext done.\"\n",
            "[1] \" Variable agr done.\"\n",
            "[1] \" Variable neu done.\"\n",
            "[1] \"Cross-validated predictions, fold: 7\"\n"
          ]
        },
        {
          "output_type": "stream",
          "name": "stderr",
          "text": [
            "Warning message:\n",
            "“glm.fit: fitted probabilities numerically 0 or 1 occurred”\n"
          ]
        },
        {
          "output_type": "stream",
          "name": "stdout",
          "text": [
            "[1] \" Variable gender done.\"\n",
            "[1] \" Variable age done.\"\n",
            "[1] \" Variable political done.\"\n",
            "[1] \" Variable ope done.\"\n",
            "[1] \" Variable con done.\"\n",
            "[1] \" Variable ext done.\"\n",
            "[1] \" Variable agr done.\"\n",
            "[1] \" Variable neu done.\"\n",
            "[1] \"Cross-validated predictions, fold: 8\"\n"
          ]
        },
        {
          "output_type": "stream",
          "name": "stderr",
          "text": [
            "Warning message:\n",
            "“glm.fit: fitted probabilities numerically 0 or 1 occurred”\n"
          ]
        },
        {
          "output_type": "stream",
          "name": "stdout",
          "text": [
            "[1] \" Variable gender done.\"\n",
            "[1] \" Variable age done.\"\n",
            "[1] \" Variable political done.\"\n",
            "[1] \" Variable ope done.\"\n",
            "[1] \" Variable con done.\"\n",
            "[1] \" Variable ext done.\"\n",
            "[1] \" Variable agr done.\"\n",
            "[1] \" Variable neu done.\"\n",
            "[1] \"Cross-validated predictions, fold: 9\"\n"
          ]
        },
        {
          "output_type": "stream",
          "name": "stderr",
          "text": [
            "Warning message:\n",
            "“glm.fit: fitted probabilities numerically 0 or 1 occurred”\n"
          ]
        },
        {
          "output_type": "stream",
          "name": "stdout",
          "text": [
            "[1] \" Variable gender done.\"\n",
            "[1] \" Variable age done.\"\n",
            "[1] \" Variable political done.\"\n",
            "[1] \" Variable ope done.\"\n",
            "[1] \" Variable con done.\"\n",
            "[1] \" Variable ext done.\"\n",
            "[1] \" Variable agr done.\"\n",
            "[1] \" Variable neu done.\"\n",
            "[1] \"Cross-validated predictions, fold: 10\"\n"
          ]
        },
        {
          "output_type": "stream",
          "name": "stderr",
          "text": [
            "Warning message:\n",
            "“glm.fit: fitted probabilities numerically 0 or 1 occurred”\n"
          ]
        },
        {
          "output_type": "stream",
          "name": "stdout",
          "text": [
            "[1] \" Variable gender done.\"\n",
            "[1] \" Variable age done.\"\n",
            "[1] \" Variable political done.\"\n",
            "[1] \" Variable ope done.\"\n",
            "[1] \" Variable con done.\"\n",
            "[1] \" Variable ext done.\"\n",
            "[1] \" Variable agr done.\"\n",
            "[1] \" Variable neu done.\"\n",
            "[1] 120\n",
            "[1] \"Cross-validated predictions, fold: 1\"\n"
          ]
        },
        {
          "output_type": "stream",
          "name": "stderr",
          "text": [
            "Warning message:\n",
            "“glm.fit: fitted probabilities numerically 0 or 1 occurred”\n"
          ]
        },
        {
          "output_type": "stream",
          "name": "stdout",
          "text": [
            "[1] \" Variable gender done.\"\n",
            "[1] \" Variable age done.\"\n",
            "[1] \" Variable political done.\"\n",
            "[1] \" Variable ope done.\"\n",
            "[1] \" Variable con done.\"\n",
            "[1] \" Variable ext done.\"\n",
            "[1] \" Variable agr done.\"\n",
            "[1] \" Variable neu done.\"\n",
            "[1] \"Cross-validated predictions, fold: 2\"\n"
          ]
        },
        {
          "output_type": "stream",
          "name": "stderr",
          "text": [
            "Warning message:\n",
            "“glm.fit: fitted probabilities numerically 0 or 1 occurred”\n"
          ]
        },
        {
          "output_type": "stream",
          "name": "stdout",
          "text": [
            "[1] \" Variable gender done.\"\n",
            "[1] \" Variable age done.\"\n",
            "[1] \" Variable political done.\"\n",
            "[1] \" Variable ope done.\"\n",
            "[1] \" Variable con done.\"\n",
            "[1] \" Variable ext done.\"\n",
            "[1] \" Variable agr done.\"\n",
            "[1] \" Variable neu done.\"\n",
            "[1] \"Cross-validated predictions, fold: 3\"\n"
          ]
        },
        {
          "output_type": "stream",
          "name": "stderr",
          "text": [
            "Warning message:\n",
            "“glm.fit: fitted probabilities numerically 0 or 1 occurred”\n"
          ]
        },
        {
          "output_type": "stream",
          "name": "stdout",
          "text": [
            "[1] \" Variable gender done.\"\n",
            "[1] \" Variable age done.\"\n",
            "[1] \" Variable political done.\"\n",
            "[1] \" Variable ope done.\"\n",
            "[1] \" Variable con done.\"\n",
            "[1] \" Variable ext done.\"\n",
            "[1] \" Variable agr done.\"\n",
            "[1] \" Variable neu done.\"\n",
            "[1] \"Cross-validated predictions, fold: 4\"\n"
          ]
        },
        {
          "output_type": "stream",
          "name": "stderr",
          "text": [
            "Warning message:\n",
            "“glm.fit: fitted probabilities numerically 0 or 1 occurred”\n"
          ]
        },
        {
          "output_type": "stream",
          "name": "stdout",
          "text": [
            "[1] \" Variable gender done.\"\n",
            "[1] \" Variable age done.\"\n",
            "[1] \" Variable political done.\"\n",
            "[1] \" Variable ope done.\"\n",
            "[1] \" Variable con done.\"\n",
            "[1] \" Variable ext done.\"\n",
            "[1] \" Variable agr done.\"\n",
            "[1] \" Variable neu done.\"\n",
            "[1] \"Cross-validated predictions, fold: 5\"\n"
          ]
        },
        {
          "output_type": "stream",
          "name": "stderr",
          "text": [
            "Warning message:\n",
            "“glm.fit: fitted probabilities numerically 0 or 1 occurred”\n"
          ]
        },
        {
          "output_type": "stream",
          "name": "stdout",
          "text": [
            "[1] \" Variable gender done.\"\n",
            "[1] \" Variable age done.\"\n",
            "[1] \" Variable political done.\"\n",
            "[1] \" Variable ope done.\"\n",
            "[1] \" Variable con done.\"\n",
            "[1] \" Variable ext done.\"\n",
            "[1] \" Variable agr done.\"\n",
            "[1] \" Variable neu done.\"\n",
            "[1] \"Cross-validated predictions, fold: 6\"\n"
          ]
        },
        {
          "output_type": "stream",
          "name": "stderr",
          "text": [
            "Warning message:\n",
            "“glm.fit: fitted probabilities numerically 0 or 1 occurred”\n"
          ]
        },
        {
          "output_type": "stream",
          "name": "stdout",
          "text": [
            "[1] \" Variable gender done.\"\n",
            "[1] \" Variable age done.\"\n",
            "[1] \" Variable political done.\"\n",
            "[1] \" Variable ope done.\"\n",
            "[1] \" Variable con done.\"\n",
            "[1] \" Variable ext done.\"\n",
            "[1] \" Variable agr done.\"\n",
            "[1] \" Variable neu done.\"\n",
            "[1] \"Cross-validated predictions, fold: 7\"\n"
          ]
        },
        {
          "output_type": "stream",
          "name": "stderr",
          "text": [
            "Warning message:\n",
            "“glm.fit: fitted probabilities numerically 0 or 1 occurred”\n"
          ]
        },
        {
          "output_type": "stream",
          "name": "stdout",
          "text": [
            "[1] \" Variable gender done.\"\n",
            "[1] \" Variable age done.\"\n",
            "[1] \" Variable political done.\"\n",
            "[1] \" Variable ope done.\"\n",
            "[1] \" Variable con done.\"\n",
            "[1] \" Variable ext done.\"\n",
            "[1] \" Variable agr done.\"\n",
            "[1] \" Variable neu done.\"\n",
            "[1] \"Cross-validated predictions, fold: 8\"\n"
          ]
        },
        {
          "output_type": "stream",
          "name": "stderr",
          "text": [
            "Warning message:\n",
            "“glm.fit: fitted probabilities numerically 0 or 1 occurred”\n"
          ]
        },
        {
          "output_type": "stream",
          "name": "stdout",
          "text": [
            "[1] \" Variable gender done.\"\n",
            "[1] \" Variable age done.\"\n",
            "[1] \" Variable political done.\"\n",
            "[1] \" Variable ope done.\"\n",
            "[1] \" Variable con done.\"\n",
            "[1] \" Variable ext done.\"\n",
            "[1] \" Variable agr done.\"\n",
            "[1] \" Variable neu done.\"\n",
            "[1] \"Cross-validated predictions, fold: 9\"\n"
          ]
        },
        {
          "output_type": "stream",
          "name": "stderr",
          "text": [
            "Warning message:\n",
            "“glm.fit: fitted probabilities numerically 0 or 1 occurred”\n"
          ]
        },
        {
          "output_type": "stream",
          "name": "stdout",
          "text": [
            "[1] \" Variable gender done.\"\n",
            "[1] \" Variable age done.\"\n",
            "[1] \" Variable political done.\"\n",
            "[1] \" Variable ope done.\"\n",
            "[1] \" Variable con done.\"\n",
            "[1] \" Variable ext done.\"\n",
            "[1] \" Variable agr done.\"\n",
            "[1] \" Variable neu done.\"\n",
            "[1] \"Cross-validated predictions, fold: 10\"\n"
          ]
        },
        {
          "output_type": "stream",
          "name": "stderr",
          "text": [
            "Warning message:\n",
            "“glm.fit: fitted probabilities numerically 0 or 1 occurred”\n"
          ]
        },
        {
          "output_type": "stream",
          "name": "stdout",
          "text": [
            "[1] \" Variable gender done.\"\n",
            "[1] \" Variable age done.\"\n",
            "[1] \" Variable political done.\"\n",
            "[1] \" Variable ope done.\"\n",
            "[1] \" Variable con done.\"\n",
            "[1] \" Variable ext done.\"\n",
            "[1] \" Variable agr done.\"\n",
            "[1] \" Variable neu done.\"\n",
            "[1] 150\n",
            "[1] \"Cross-validated predictions, fold: 1\"\n"
          ]
        },
        {
          "output_type": "stream",
          "name": "stderr",
          "text": [
            "Warning message:\n",
            "“glm.fit: fitted probabilities numerically 0 or 1 occurred”\n"
          ]
        },
        {
          "output_type": "stream",
          "name": "stdout",
          "text": [
            "[1] \" Variable gender done.\"\n",
            "[1] \" Variable age done.\"\n",
            "[1] \" Variable political done.\"\n",
            "[1] \" Variable ope done.\"\n",
            "[1] \" Variable con done.\"\n",
            "[1] \" Variable ext done.\"\n",
            "[1] \" Variable agr done.\"\n",
            "[1] \" Variable neu done.\"\n",
            "[1] \"Cross-validated predictions, fold: 2\"\n"
          ]
        },
        {
          "output_type": "stream",
          "name": "stderr",
          "text": [
            "Warning message:\n",
            "“glm.fit: fitted probabilities numerically 0 or 1 occurred”\n"
          ]
        },
        {
          "output_type": "stream",
          "name": "stdout",
          "text": [
            "[1] \" Variable gender done.\"\n",
            "[1] \" Variable age done.\"\n",
            "[1] \" Variable political done.\"\n",
            "[1] \" Variable ope done.\"\n",
            "[1] \" Variable con done.\"\n",
            "[1] \" Variable ext done.\"\n",
            "[1] \" Variable agr done.\"\n",
            "[1] \" Variable neu done.\"\n",
            "[1] \"Cross-validated predictions, fold: 3\"\n"
          ]
        },
        {
          "output_type": "stream",
          "name": "stderr",
          "text": [
            "Warning message:\n",
            "“glm.fit: fitted probabilities numerically 0 or 1 occurred”\n"
          ]
        },
        {
          "output_type": "stream",
          "name": "stdout",
          "text": [
            "[1] \" Variable gender done.\"\n",
            "[1] \" Variable age done.\"\n",
            "[1] \" Variable political done.\"\n",
            "[1] \" Variable ope done.\"\n",
            "[1] \" Variable con done.\"\n",
            "[1] \" Variable ext done.\"\n",
            "[1] \" Variable agr done.\"\n",
            "[1] \" Variable neu done.\"\n",
            "[1] \"Cross-validated predictions, fold: 4\"\n"
          ]
        },
        {
          "output_type": "stream",
          "name": "stderr",
          "text": [
            "Warning message:\n",
            "“glm.fit: fitted probabilities numerically 0 or 1 occurred”\n"
          ]
        },
        {
          "output_type": "stream",
          "name": "stdout",
          "text": [
            "[1] \" Variable gender done.\"\n",
            "[1] \" Variable age done.\"\n",
            "[1] \" Variable political done.\"\n",
            "[1] \" Variable ope done.\"\n",
            "[1] \" Variable con done.\"\n",
            "[1] \" Variable ext done.\"\n",
            "[1] \" Variable agr done.\"\n",
            "[1] \" Variable neu done.\"\n",
            "[1] \"Cross-validated predictions, fold: 5\"\n"
          ]
        },
        {
          "output_type": "stream",
          "name": "stderr",
          "text": [
            "Warning message:\n",
            "“glm.fit: fitted probabilities numerically 0 or 1 occurred”\n"
          ]
        },
        {
          "output_type": "stream",
          "name": "stdout",
          "text": [
            "[1] \" Variable gender done.\"\n",
            "[1] \" Variable age done.\"\n",
            "[1] \" Variable political done.\"\n",
            "[1] \" Variable ope done.\"\n",
            "[1] \" Variable con done.\"\n",
            "[1] \" Variable ext done.\"\n",
            "[1] \" Variable agr done.\"\n",
            "[1] \" Variable neu done.\"\n",
            "[1] \"Cross-validated predictions, fold: 6\"\n"
          ]
        },
        {
          "output_type": "stream",
          "name": "stderr",
          "text": [
            "Warning message:\n",
            "“glm.fit: fitted probabilities numerically 0 or 1 occurred”\n"
          ]
        },
        {
          "output_type": "stream",
          "name": "stdout",
          "text": [
            "[1] \" Variable gender done.\"\n",
            "[1] \" Variable age done.\"\n",
            "[1] \" Variable political done.\"\n",
            "[1] \" Variable ope done.\"\n",
            "[1] \" Variable con done.\"\n",
            "[1] \" Variable ext done.\"\n",
            "[1] \" Variable agr done.\"\n",
            "[1] \" Variable neu done.\"\n",
            "[1] \"Cross-validated predictions, fold: 7\"\n"
          ]
        },
        {
          "output_type": "stream",
          "name": "stderr",
          "text": [
            "Warning message:\n",
            "“glm.fit: fitted probabilities numerically 0 or 1 occurred”\n"
          ]
        },
        {
          "output_type": "stream",
          "name": "stdout",
          "text": [
            "[1] \" Variable gender done.\"\n",
            "[1] \" Variable age done.\"\n",
            "[1] \" Variable political done.\"\n",
            "[1] \" Variable ope done.\"\n",
            "[1] \" Variable con done.\"\n",
            "[1] \" Variable ext done.\"\n",
            "[1] \" Variable agr done.\"\n",
            "[1] \" Variable neu done.\"\n",
            "[1] \"Cross-validated predictions, fold: 8\"\n"
          ]
        },
        {
          "output_type": "stream",
          "name": "stderr",
          "text": [
            "Warning message:\n",
            "“glm.fit: fitted probabilities numerically 0 or 1 occurred”\n"
          ]
        },
        {
          "output_type": "stream",
          "name": "stdout",
          "text": [
            "[1] \" Variable gender done.\"\n",
            "[1] \" Variable age done.\"\n",
            "[1] \" Variable political done.\"\n",
            "[1] \" Variable ope done.\"\n",
            "[1] \" Variable con done.\"\n",
            "[1] \" Variable ext done.\"\n",
            "[1] \" Variable agr done.\"\n",
            "[1] \" Variable neu done.\"\n",
            "[1] \"Cross-validated predictions, fold: 9\"\n"
          ]
        },
        {
          "output_type": "stream",
          "name": "stderr",
          "text": [
            "Warning message:\n",
            "“glm.fit: fitted probabilities numerically 0 or 1 occurred”\n"
          ]
        },
        {
          "output_type": "stream",
          "name": "stdout",
          "text": [
            "[1] \" Variable gender done.\"\n",
            "[1] \" Variable age done.\"\n",
            "[1] \" Variable political done.\"\n",
            "[1] \" Variable ope done.\"\n",
            "[1] \" Variable con done.\"\n",
            "[1] \" Variable ext done.\"\n",
            "[1] \" Variable agr done.\"\n",
            "[1] \" Variable neu done.\"\n",
            "[1] \"Cross-validated predictions, fold: 10\"\n"
          ]
        },
        {
          "output_type": "stream",
          "name": "stderr",
          "text": [
            "Warning message:\n",
            "“glm.fit: fitted probabilities numerically 0 or 1 occurred”\n"
          ]
        },
        {
          "output_type": "stream",
          "name": "stdout",
          "text": [
            "[1] \" Variable gender done.\"\n",
            "[1] \" Variable age done.\"\n",
            "[1] \" Variable political done.\"\n",
            "[1] \" Variable ope done.\"\n",
            "[1] \" Variable con done.\"\n",
            "[1] \" Variable ext done.\"\n",
            "[1] \" Variable agr done.\"\n",
            "[1] \" Variable neu done.\"\n",
            "[[1]]\n",
            "[1] 0.8300263\n",
            "\n",
            "[[2]]\n",
            "[1] 0.5472493\n",
            "\n",
            "[[3]]\n",
            "[1] 0.7340199\n",
            "\n",
            "[[4]]\n",
            "[1] 0.3169619\n",
            "\n",
            "[[5]]\n",
            "[1] 0.2053663\n",
            "\n",
            "[[6]]\n",
            "[1] 0.2270899\n",
            "\n",
            "[[7]]\n",
            "[1] 0.1124042\n",
            "\n",
            "[[8]]\n",
            "[1] 0.1675127\n",
            "\n",
            "[[9]]\n",
            "[1] 0.9053011\n",
            "\n",
            "[[10]]\n",
            "[1] 0.5604918\n",
            "\n",
            "[[11]]\n",
            "[1] 0.7872869\n",
            "\n",
            "[[12]]\n",
            "[1] 0.352942\n",
            "\n",
            "[[13]]\n",
            "[1] 0.2301416\n",
            "\n",
            "[[14]]\n",
            "[1] 0.2468461\n",
            "\n",
            "[[15]]\n",
            "[1] 0.16081\n",
            "\n",
            "[[16]]\n",
            "[1] 0.2595043\n",
            "\n",
            "[[17]]\n",
            "[1] 0.9037585\n",
            "\n",
            "[[18]]\n",
            "[1] 0.5721259\n",
            "\n",
            "[[19]]\n",
            "[1] 0.8535664\n",
            "\n",
            "[[20]]\n",
            "[1] 0.4102391\n",
            "\n",
            "[[21]]\n",
            "[1] 0.2458817\n",
            "\n",
            "[[22]]\n",
            "[1] 0.2791134\n",
            "\n",
            "[[23]]\n",
            "[1] 0.1717914\n",
            "\n",
            "[[24]]\n",
            "[1] 0.2730079\n",
            "\n",
            "[[25]]\n",
            "[1] 0.9199013\n",
            "\n",
            "[[26]]\n",
            "[1] 0.594258\n",
            "\n",
            "[[27]]\n",
            "[1] 0.8642198\n",
            "\n",
            "[[28]]\n",
            "[1] 0.4149347\n",
            "\n",
            "[[29]]\n",
            "[1] 0.2581572\n",
            "\n",
            "[[30]]\n",
            "[1] 0.2882133\n",
            "\n",
            "[[31]]\n",
            "[1] 0.1809229\n",
            "\n",
            "[[32]]\n",
            "[1] 0.2920448\n",
            "\n",
            "[[33]]\n",
            "[1] 0.9268681\n",
            "\n",
            "[[34]]\n",
            "[1] 0.6113442\n",
            "\n",
            "[[35]]\n",
            "[1] 0.8647524\n",
            "\n",
            "[[36]]\n",
            "[1] 0.4284125\n",
            "\n",
            "[[37]]\n",
            "[1] 0.2602737\n",
            "\n",
            "[[38]]\n",
            "[1] 0.3044233\n",
            "\n",
            "[[39]]\n",
            "[1] 0.1966196\n",
            "\n",
            "[[40]]\n",
            "[1] 0.29587\n",
            "\n",
            "[[41]]\n",
            "[1] 0.936131\n",
            "\n",
            "[[42]]\n",
            "[1] 0.6162453\n",
            "\n",
            "[[43]]\n",
            "[1] 0.8838017\n",
            "\n",
            "[[44]]\n",
            "[1] 0.4496204\n",
            "\n",
            "[[45]]\n",
            "[1] 0.2639702\n",
            "\n",
            "[[46]]\n",
            "[1] 0.3087132\n",
            "\n",
            "[[47]]\n",
            "[1] 0.2129672\n",
            "\n",
            "[[48]]\n",
            "[1] 0.304104\n",
            "\n",
            "[[49]]\n",
            "[1] 0.9402044\n",
            "\n",
            "[[50]]\n",
            "[1] 0.6212137\n",
            "\n",
            "[[51]]\n",
            "[1] 0.8973468\n",
            "\n",
            "[[52]]\n",
            "[1] 0.4575199\n",
            "\n",
            "[[53]]\n",
            "[1] 0.2617464\n",
            "\n",
            "[[54]]\n",
            "[1] 0.3125286\n",
            "\n",
            "[[55]]\n",
            "[1] 0.217173\n",
            "\n",
            "[[56]]\n",
            "[1] 0.3033339\n",
            "\n",
            "[[57]]\n",
            "[1] 0.944503\n",
            "\n",
            "[[58]]\n",
            "[1] 0.6264739\n",
            "\n",
            "[[59]]\n",
            "[1] 0.8953429\n",
            "\n",
            "[[60]]\n",
            "[1] 0.4588599\n",
            "\n",
            "[[61]]\n",
            "[1] 0.2544668\n",
            "\n",
            "[[62]]\n",
            "[1] 0.3190663\n",
            "\n",
            "[[63]]\n",
            "[1] 0.2194967\n",
            "\n",
            "[[64]]\n",
            "[1] 0.3057482\n",
            "\n",
            "[[65]]\n",
            "[1] 0.9488552\n",
            "\n",
            "[[66]]\n",
            "[1] 0.6312972\n",
            "\n",
            "[[67]]\n",
            "[1] 0.8982092\n",
            "\n",
            "[[68]]\n",
            "[1] 0.4628234\n",
            "\n",
            "[[69]]\n",
            "[1] 0.2504618\n",
            "\n",
            "[[70]]\n",
            "[1] 0.3212193\n",
            "\n",
            "[[71]]\n",
            "[1] 0.2353398\n",
            "\n",
            "[[72]]\n",
            "[1] 0.3132031\n",
            "\n",
            "[[73]]\n",
            "[1] 0.9501738\n",
            "\n",
            "[[74]]\n",
            "[1] 0.6374416\n",
            "\n",
            "[[75]]\n",
            "[1] 0.8967127\n",
            "\n",
            "[[76]]\n",
            "[1] 0.4633313\n",
            "\n",
            "[[77]]\n",
            "[1] 0.2525933\n",
            "\n",
            "[[78]]\n",
            "[1] 0.328319\n",
            "\n",
            "[[79]]\n",
            "[1] 0.2365\n",
            "\n",
            "[[80]]\n",
            "[1] 0.3145613\n",
            "\n",
            "[[81]]\n",
            "[1] 0.9501813\n",
            "\n",
            "[[82]]\n",
            "[1] 0.6426505\n",
            "\n",
            "[[83]]\n",
            "[1] 0.8959263\n",
            "\n",
            "[[84]]\n",
            "[1] 0.459575\n",
            "\n",
            "[[85]]\n",
            "[1] 0.2534107\n",
            "\n",
            "[[86]]\n",
            "[1] 0.335166\n",
            "\n",
            "[[87]]\n",
            "[1] 0.2438481\n",
            "\n",
            "[[88]]\n",
            "[1] 0.3129668\n",
            "\n",
            "[[89]]\n",
            "[1] 0.9526104\n",
            "\n",
            "[[90]]\n",
            "[1] 0.647641\n",
            "\n",
            "[[91]]\n",
            "[1] 0.8904221\n",
            "\n",
            "[[92]]\n",
            "[1] 0.4634475\n",
            "\n",
            "[[93]]\n",
            "[1] 0.2563485\n",
            "\n",
            "[[94]]\n",
            "[1] 0.3347003\n",
            "\n",
            "[[95]]\n",
            "[1] 0.2467135\n",
            "\n",
            "[[96]]\n",
            "[1] 0.3126974\n",
            "\n",
            "[[97]]\n",
            "[1] 0.9552592\n",
            "\n",
            "[[98]]\n",
            "[1] 0.6572243\n",
            "\n",
            "[[99]]\n",
            "[1] 0.8949625\n",
            "\n",
            "[[100]]\n",
            "[1] 0.4660504\n",
            "\n",
            "[[101]]\n",
            "[1] 0.2546582\n",
            "\n",
            "[[102]]\n",
            "[1] 0.335556\n",
            "\n",
            "[[103]]\n",
            "[1] 0.2576926\n",
            "\n",
            "[[104]]\n",
            "[1] 0.3173197\n",
            "\n"
          ]
        },
        {
          "output_type": "display_data",
          "data": {
            "text/plain": [
              "plot without title"
            ],
            "image/png": "[encoded data removed]"
          },
          "metadata": {
            "image/png": {
              "width": 420,
              "height": 420
            }
          }
        },
        {
          "output_type": "display_data",
          "data": {
            "text/plain": [
              "plot without title"
            ],
            "image/png": "[encoded data removed]"
          },
          "metadata": {
            "image/png": {
              "width": 420,
              "height": 420
            }
          }
        },
        {
          "output_type": "display_data",
          "data": {
            "text/plain": [
              "plot without title"
            ],
            "image/png": "[encoded data removed]"
          },
          "metadata": {
            "image/png": {
              "width": 420,
              "height": 420
            }
          }
        }
      ]
    }
  ]
}